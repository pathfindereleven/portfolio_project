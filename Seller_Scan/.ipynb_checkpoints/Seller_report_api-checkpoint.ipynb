{
 "cells": [
  {
   "cell_type": "code",
   "execution_count": 1,
   "id": "3f8e9b29",
   "metadata": {},
   "outputs": [],
   "source": [
    "import requests\n",
    "import pandas as pd\n",
    "import json\n",
    "import random\n",
    "import time"
   ]
  },
  {
   "cell_type": "code",
   "execution_count": 2,
   "id": "3dd228b6",
   "metadata": {},
   "outputs": [],
   "source": [
    "#seller_id = \n",
    "loop = 10\n",
    "url = \"https://mp-search-api.tcgplayer.com/v1/search/request?q=&isList=false&mpfev=2017\""
   ]
  },
  {
   "cell_type": "code",
   "execution_count": null,
   "id": "740bbb87",
   "metadata": {},
   "outputs": [],
   "source": [
    "count = -50\n",
    "df = []\n",
    "for i in range(loop):\n",
    "    count = count + 50\n",
    "    data = {\"algorithm\": \"sales_exp_fields_experiment\",\"from\": count,\"size\": 50,\"filters\": {\"term\": {},\"range\": {},\"match\": {}},\"listingSearch\": {\"context\": {\"cart\": {}},\"filters\": {\"term\": {\"sellerStatus\": \"Live\",\"channelId\": 0,\"sellerKey\": [\"bb74f3e2\"]},\"range\": {\"quantity\": {\"gte\": 1}},\"exclude\": {\"channelExclusion\": 0}}},\"context\": {\"cart\": {},\"shippingCountry\": \"US\"},\"settings\": {\"useFuzzySearch\": True,\"didYouMean\": {}},\"sort\": {}}\n",
    "    \n",
    "    x =requests.post(url, json = data).json()\n",
    "    query_dic = x['results'][0] \n",
    "    for y in query_dic['results']:\n",
    "        row =[]\n",
    "        row.append(y['marketPrice'])\n",
    "        row.append(y['productName'])\n",
    "        row.append(y['setCode'])\n",
    "        listing = y['listings'][0]\n",
    "        row.append(listing['price'])\n",
    "        row.append(listing['condition'])\n",
    "        df.append(row)\n",
    "        st= random.uniform(0.5, 1.75)\n",
    "        time.sleep(st)"
   ]
  },
  {
   "cell_type": "code",
   "execution_count": null,
   "id": "087c0096",
   "metadata": {},
   "outputs": [],
   "source": [
    "report = pd.DataFrame(df, columns = ['mktprice', 'name', 'set', 'price', 'condition']) \n",
    "report[\"over_under\"] = (report[\"price\"]) - (report['mktprice'])\n",
    "report = report.sort_values([\"over_under\"]) \n",
    "report.head(25)"
   ]
  },
  {
   "cell_type": "code",
   "execution_count": null,
   "id": "5ec076f4",
   "metadata": {},
   "outputs": [],
   "source": []
  }
 ],
 "metadata": {
  "kernelspec": {
   "display_name": "Python 3 (ipykernel)",
   "language": "python",
   "name": "python3"
  },
  "language_info": {
   "codemirror_mode": {
    "name": "ipython",
    "version": 3
   },
   "file_extension": ".py",
   "mimetype": "text/x-python",
   "name": "python",
   "nbconvert_exporter": "python",
   "pygments_lexer": "ipython3",
   "version": "3.10.9"
  }
 },
 "nbformat": 4,
 "nbformat_minor": 5
}
