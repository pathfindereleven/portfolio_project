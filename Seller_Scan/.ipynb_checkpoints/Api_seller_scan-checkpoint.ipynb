{
 "cells": [
  {
   "cell_type": "code",
   "execution_count": 1,
   "id": "44f56e1b",
   "metadata": {},
   "outputs": [],
   "source": [
    "import requests\n",
    "import pandas as pd\n",
    "from bs4 import BeautifulSoup\n",
    "import json"
   ]
  },
  {
   "cell_type": "code",
   "execution_count": 2,
   "id": "dd8eb910",
   "metadata": {},
   "outputs": [],
   "source": [
    "url = \"https://mp-search-api.tcgplayer.com/v1/search/request?q=&isList=false&mpfev=2017\"\n",
    "data = {\n",
    "    \"algorithm\": \"sales_exp_fields_experiment\",\n",
    "    \"from\": 100,\n",
    "    \"size\": 50,\n",
    "    \"filters\": {\n",
    "        \"term\": {},\n",
    "        \"range\": {},\n",
    "        \"match\": {}\n",
    "    },\n",
    "    \"listingSearch\": {\n",
    "        \"context\": {\n",
    "            \"cart\": {}\n",
    "        },\n",
    "        \"filters\": {\n",
    "            \"term\": {\n",
    "                \"sellerStatus\": \"Live\",\n",
    "                \"channelId\": 0,\n",
    "                \"sellerKey\": [\n",
    "                    \"bb74f3e2\"\n",
    "                ]\n",
    "            },\n",
    "            \"range\": {\n",
    "                \"quantity\": {\n",
    "                    \"gte\": 1\n",
    "                }\n",
    "            },\n",
    "            \"exclude\": {\n",
    "                \"channelExclusion\": 0\n",
    "            }\n",
    "        }\n",
    "    },\n",
    "    \"context\": {\n",
    "        \"cart\": {},\n",
    "        \"shippingCountry\": \"US\"\n",
    "    },\n",
    "    \"settings\": {\n",
    "        \"useFuzzySearch\": True,\n",
    "        \"didYouMean\": {}\n",
    "    },\n",
    "    \"sort\": {}\n",
    "}"
   ]
  },
  {
   "cell_type": "code",
   "execution_count": 3,
   "id": "187f558a",
   "metadata": {},
   "outputs": [
    {
     "name": "stdout",
     "output_type": "stream",
     "text": [
      "['aggregations', 'algorithm', 'searchType', 'totalResults', 'resultId', 'results']\n"
     ]
    }
   ],
   "source": [
    "x =requests.post(url, json = data).json()\n",
    "query_dic = x['results'][0]\n",
    "loop_key = list(query_dic.keys())   \n",
    "loop_values = list(query_dic.values())\n",
    "#print(loop_values)                              ### print lists if needed\n",
    "print(loop_key) "
   ]
  },
  {
   "cell_type": "code",
   "execution_count": 4,
   "id": "7580fb77",
   "metadata": {},
   "outputs": [
    {
     "name": "stdout",
     "output_type": "stream",
     "text": [
      "50\n"
     ]
    }
   ],
   "source": [
    "print(len(query_dic['results']))"
   ]
  },
  {
   "cell_type": "code",
   "execution_count": 5,
   "id": "af925e94",
   "metadata": {},
   "outputs": [
    {
     "name": "stdout",
     "output_type": "stream",
     "text": [
      "['shippingCategoryId', 'duplicate', 'productLineUrlName', 'productTypeName', 'productUrlName', 'productTypeId', 'rarityName', 'sealed', 'marketPrice', 'customAttributes', 'lowestPriceWithShipping', 'productName', 'setId', 'setCode', 'productId', 'artist', 'imageCount', 'score', 'setName', 'sellers', 'foilOnly', 'setUrlName', 'sellerListable', 'totalListings', 'productLineId', 'productStatusId', 'productLineName', 'maxFulfillableQuantity', 'normalOnly', 'listings', 'lowestPrice']\n"
     ]
    }
   ],
   "source": [
    "query_dic = query_dic['results'][1]\n",
    "dic_key = list(query_dic.keys())   \n",
    "print(dic_key) "
   ]
  },
  {
   "cell_type": "code",
   "execution_count": 6,
   "id": "53a3089e",
   "metadata": {},
   "outputs": [
    {
     "data": {
      "text/plain": [
       "1.65"
      ]
     },
     "execution_count": 6,
     "metadata": {},
     "output_type": "execute_result"
    }
   ],
   "source": [
    "query_dic['marketPrice']"
   ]
  },
  {
   "cell_type": "code",
   "execution_count": 7,
   "id": "cdcd2b63",
   "metadata": {},
   "outputs": [
    {
     "data": {
      "text/plain": [
       "'Plains (294) - JP Full Art'"
      ]
     },
     "execution_count": 7,
     "metadata": {},
     "output_type": "execute_result"
    }
   ],
   "source": [
    "query_dic['productName']"
   ]
  },
  {
   "cell_type": "code",
   "execution_count": 8,
   "id": "df1f4ac0",
   "metadata": {},
   "outputs": [
    {
     "data": {
      "text/plain": [
       "'NEO'"
      ]
     },
     "execution_count": 8,
     "metadata": {},
     "output_type": "execute_result"
    }
   ],
   "source": [
    "query_dic['setCode']"
   ]
  },
  {
   "cell_type": "code",
   "execution_count": 9,
   "id": "dd474e9f",
   "metadata": {},
   "outputs": [
    {
     "data": {
      "text/plain": [
       "{'directProduct': True,\n",
       " 'goldSeller': True,\n",
       " 'listingId': 193732903.0,\n",
       " 'channelId': 0.0,\n",
       " 'conditionId': 1.0,\n",
       " 'verifiedSeller': True,\n",
       " 'directInventory': 612.0,\n",
       " 'rankedShippingPrice': 0.99,\n",
       " 'productId': 257677.0,\n",
       " 'printing': 'Normal',\n",
       " 'languageAbbreviation': 'EN',\n",
       " 'sellerName': 'GAMELAND',\n",
       " 'forwardFreight': False,\n",
       " 'sellerShippingPrice': 0.99,\n",
       " 'language': 'English',\n",
       " 'shippingPrice': 0.99,\n",
       " 'condition': 'Near Mint',\n",
       " 'languageId': 1.0,\n",
       " 'score': 2.740000009536743,\n",
       " 'directSeller': False,\n",
       " 'productConditionId': 5347229.0,\n",
       " 'sellerId': '1857',\n",
       " 'listingType': 'standard',\n",
       " 'sellerRating': 99.9,\n",
       " 'sellerSales': '10000+',\n",
       " 'quantity': 1.0,\n",
       " 'sellerKey': 'bb74f3e2',\n",
       " 'price': 1.75,\n",
       " 'customData': {'images': []}}"
      ]
     },
     "execution_count": 9,
     "metadata": {},
     "output_type": "execute_result"
    }
   ],
   "source": [
    "query_dic['listings'][0]"
   ]
  },
  {
   "cell_type": "code",
   "execution_count": 10,
   "id": "be6ec498",
   "metadata": {},
   "outputs": [
    {
     "name": "stdout",
     "output_type": "stream",
     "text": [
      "['directProduct', 'goldSeller', 'listingId', 'channelId', 'conditionId', 'verifiedSeller', 'directInventory', 'rankedShippingPrice', 'productId', 'printing', 'languageAbbreviation', 'sellerName', 'forwardFreight', 'sellerShippingPrice', 'language', 'shippingPrice', 'condition', 'languageId', 'score', 'directSeller', 'productConditionId', 'sellerId', 'listingType', 'sellerRating', 'sellerSales', 'quantity', 'sellerKey', 'price', 'customData']\n"
     ]
    }
   ],
   "source": [
    "query_dic = query_dic['listings'][0]\n",
    "dic_key = list(query_dic.keys())   \n",
    "print(dic_key) "
   ]
  },
  {
   "cell_type": "code",
   "execution_count": 11,
   "id": "5dd093e2",
   "metadata": {},
   "outputs": [
    {
     "data": {
      "text/plain": [
       "1.75"
      ]
     },
     "execution_count": 11,
     "metadata": {},
     "output_type": "execute_result"
    }
   ],
   "source": [
    "query_dic['price']"
   ]
  },
  {
   "cell_type": "code",
   "execution_count": 12,
   "id": "f9173b54",
   "metadata": {},
   "outputs": [
    {
     "data": {
      "text/plain": [
       "'Near Mint'"
      ]
     },
     "execution_count": 12,
     "metadata": {},
     "output_type": "execute_result"
    }
   ],
   "source": [
    "query_dic['condition']"
   ]
  },
  {
   "cell_type": "code",
   "execution_count": 13,
   "id": "3eb88aa7",
   "metadata": {},
   "outputs": [
    {
     "ename": "IndentationError",
     "evalue": "unexpected indent (1541384389.py, line 2)",
     "output_type": "error",
     "traceback": [
      "\u001b[1;36m  Cell \u001b[1;32mIn[13], line 2\u001b[1;36m\u001b[0m\n\u001b[1;33m    cardname = query_dic['productName']\u001b[0m\n\u001b[1;37m    ^\u001b[0m\n\u001b[1;31mIndentationError\u001b[0m\u001b[1;31m:\u001b[0m unexpected indent\n"
     ]
    }
   ],
   "source": [
    " mktprice = query_dic['marketPrice']\n",
    "        cardname = query_dic['productName']\n",
    "        sset = query_dic['setCode']\n",
    "        listing = query_dic['listings'][0]\n",
    "        price = listing['price']\n",
    "        condition = listing['condition']"
   ]
  }
 ],
 "metadata": {
  "kernelspec": {
   "display_name": "Python 3 (ipykernel)",
   "language": "python",
   "name": "python3"
  },
  "language_info": {
   "codemirror_mode": {
    "name": "ipython",
    "version": 3
   },
   "file_extension": ".py",
   "mimetype": "text/x-python",
   "name": "python",
   "nbconvert_exporter": "python",
   "pygments_lexer": "ipython3",
   "version": "3.10.9"
  }
 },
 "nbformat": 4,
 "nbformat_minor": 5
}
