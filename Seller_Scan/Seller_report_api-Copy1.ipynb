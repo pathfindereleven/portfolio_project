{
 "cells": [
  {
   "cell_type": "code",
   "execution_count": 1,
   "id": "3f8e9b29",
   "metadata": {},
   "outputs": [],
   "source": [
    "import requests\n",
    "import pandas as pd\n",
    "import json\n",
    "import random\n",
    "import time"
   ]
  },
  {
   "cell_type": "code",
   "execution_count": 2,
   "id": "3ae847e1",
   "metadata": {},
   "outputs": [],
   "source": [
    "pages = 3 # 0 to go until you run out of data\n",
    "pageSize = 50 # Max supported by API is 50\n",
    "seller_id = '9a09d7a1'"
   ]
  },
  {
   "cell_type": "code",
   "execution_count": 3,
   "id": "3dd228b6",
   "metadata": {},
   "outputs": [],
   "source": [
    "data = {\"algorithm\": \"sales_exp_fields_experiment\",\"from\": 0,\"size\": pageSize,\"filters\": {\"term\": {},\"range\": {},\"match\": {}},\"listingSearch\": {\"context\": {\"cart\": {}},\"filters\": {\"term\": {\"sellerStatus\": \"Live\",\"channelId\": 0,\"sellerKey\": [seller_id]},\"range\": {\"quantity\": {\"gte\": 1}},\"exclude\": {\"channelExclusion\": 0}}},\"context\": {\"cart\": {},\"shippingCountry\": \"US\"},\"settings\": {\"useFuzzySearch\": True,\"didYouMean\": {}},\"sort\": {}}\n",
    "url = \"https://mp-search-api.tcgplayer.com/v1/search/request?q=&isList=false&mpfev=2017\"\n",
    "df = []"
   ]
  },
  {
   "cell_type": "code",
   "execution_count": 4,
   "id": "6785b4fa",
   "metadata": {},
   "outputs": [
    {
     "ename": "KeyError",
     "evalue": "'marketPrice'",
     "output_type": "error",
     "traceback": [
      "\u001b[1;31m---------------------------------------------------------------------------\u001b[0m",
      "\u001b[1;31mKeyError\u001b[0m                                  Traceback (most recent call last)",
      "Cell \u001b[1;32mIn[4], line 7\u001b[0m\n\u001b[0;32m      4\u001b[0m \u001b[38;5;28;01mfor\u001b[39;00m y \u001b[38;5;129;01min\u001b[39;00m query_dic[\u001b[38;5;124m'\u001b[39m\u001b[38;5;124mresults\u001b[39m\u001b[38;5;124m'\u001b[39m]:\n\u001b[0;32m      5\u001b[0m   listing \u001b[38;5;241m=\u001b[39m y[\u001b[38;5;124m'\u001b[39m\u001b[38;5;124mlistings\u001b[39m\u001b[38;5;124m'\u001b[39m][\u001b[38;5;241m0\u001b[39m]\n\u001b[0;32m      6\u001b[0m   df\u001b[38;5;241m.\u001b[39mappend([\n\u001b[1;32m----> 7\u001b[0m     y[\u001b[38;5;124m'\u001b[39m\u001b[38;5;124mmarketPrice\u001b[39m\u001b[38;5;124m'\u001b[39m],\n\u001b[0;32m      8\u001b[0m     y[\u001b[38;5;124m'\u001b[39m\u001b[38;5;124mproductName\u001b[39m\u001b[38;5;124m'\u001b[39m],\n\u001b[0;32m      9\u001b[0m     y[\u001b[38;5;124m'\u001b[39m\u001b[38;5;124msetCode\u001b[39m\u001b[38;5;124m'\u001b[39m],\n\u001b[0;32m     10\u001b[0m     listing[\u001b[38;5;124m'\u001b[39m\u001b[38;5;124mprice\u001b[39m\u001b[38;5;124m'\u001b[39m],\n\u001b[0;32m     11\u001b[0m     listing[\u001b[38;5;124m'\u001b[39m\u001b[38;5;124mcondition\u001b[39m\u001b[38;5;124m'\u001b[39m],\n\u001b[0;32m     12\u001b[0m   ])\n\u001b[0;32m     13\u001b[0m \u001b[38;5;28;01mif\u001b[39;00m (pages \u001b[38;5;241m>\u001b[39m \u001b[38;5;241m0\u001b[39m \u001b[38;5;129;01mand\u001b[39;00m data[\u001b[38;5;124m'\u001b[39m\u001b[38;5;124mfrom\u001b[39m\u001b[38;5;124m'\u001b[39m] \u001b[38;5;241m/\u001b[39m pageSize \u001b[38;5;241m==\u001b[39m pages) \u001b[38;5;129;01mor\u001b[39;00m \u001b[38;5;28mlen\u001b[39m(query_dic[\u001b[38;5;124m'\u001b[39m\u001b[38;5;124mresults\u001b[39m\u001b[38;5;124m'\u001b[39m]) \u001b[38;5;241m<\u001b[39m pageSize:\n\u001b[0;32m     14\u001b[0m   \u001b[38;5;28;01mbreak\u001b[39;00m\n",
      "\u001b[1;31mKeyError\u001b[0m: 'marketPrice'"
     ]
    }
   ],
   "source": [
    "while True:\n",
    "  x = requests.post(url, json = data).json()\n",
    "  query_dic = x['results'][0]\n",
    "  for y in query_dic['results']:\n",
    "    listing = y['listings'][0]\n",
    "    df.append([\n",
    "      y['marketPrice'],\n",
    "      y['productName'],\n",
    "      y['setCode'],\n",
    "      listing['price'],\n",
    "      listing['condition'],\n",
    "    ])\n",
    "  if (pages > 0 and data['from'] / pageSize == pages) or len(query_dic['results']) < pageSize:\n",
    "    break\n",
    "  data['from'] = data['from'] + pageSize"
   ]
  },
  {
   "cell_type": "code",
   "execution_count": null,
   "id": "087c0096",
   "metadata": {},
   "outputs": [],
   "source": [
    "report = pd.DataFrame(df, columns = ['mktprice', 'name', 'set', 'price', 'condition']) \n",
    "report[\"over_under\"] = (report[\"price\"]) - (report['mktprice'])\n",
    "report = report.sort_values([\"over_under\"]) \n",
    "report.head(50)"
   ]
  },
  {
   "cell_type": "code",
   "execution_count": null,
   "id": "5ec076f4",
   "metadata": {},
   "outputs": [],
   "source": [
    "print(y['marketPrice'])"
   ]
  },
  {
   "cell_type": "code",
   "execution_count": null,
   "id": "3d21526f",
   "metadata": {},
   "outputs": [],
   "source": [
    "print(y)"
   ]
  },
  {
   "cell_type": "code",
   "execution_count": null,
   "id": "00f2b3d8",
   "metadata": {},
   "outputs": [],
   "source": []
  }
 ],
 "metadata": {
  "kernelspec": {
   "display_name": "Python 3 (ipykernel)",
   "language": "python",
   "name": "python3"
  },
  "language_info": {
   "codemirror_mode": {
    "name": "ipython",
    "version": 3
   },
   "file_extension": ".py",
   "mimetype": "text/x-python",
   "name": "python",
   "nbconvert_exporter": "python",
   "pygments_lexer": "ipython3",
   "version": "3.11.3"
  }
 },
 "nbformat": 4,
 "nbformat_minor": 5
}
