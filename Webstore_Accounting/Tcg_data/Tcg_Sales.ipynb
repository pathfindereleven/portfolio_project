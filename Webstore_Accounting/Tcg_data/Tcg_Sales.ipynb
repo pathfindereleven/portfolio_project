{
 "cells": [
  {
   "cell_type": "code",
   "execution_count": 12,
   "id": "87d7cea1",
   "metadata": {},
   "outputs": [],
   "source": [
    "import pandas as pd\n",
    "from splinter import Browser\n",
    "from bs4 import BeautifulSoup\n",
    "import time\n",
    "from selenium import webdriver\n",
    "import requests"
   ]
  },
  {
   "cell_type": "code",
   "execution_count": 13,
   "id": "b573104c",
   "metadata": {},
   "outputs": [],
   "source": [
    "df_list = []"
   ]
  },
  {
   "cell_type": "code",
   "execution_count": 14,
   "id": "81332f3b",
   "metadata": {},
   "outputs": [],
   "source": [
    "# visiting the webpage\n",
    "browser = Browser('chrome', executable_path='Resources/chromedriver.exe')\n",
    "url = 'https://www.tcgplayer.com'\n",
    "browser.visit(url)"
   ]
  },
  {
   "cell_type": "code",
   "execution_count": 4,
   "id": "df83ab43",
   "metadata": {},
   "outputs": [],
   "source": [
    "req = browser.html\n",
    "soup = BeautifulSoup(req, \"html.parser\") "
   ]
  },
  {
   "cell_type": "code",
   "execution_count": 10,
   "id": "5e879561",
   "metadata": {},
   "outputs": [],
   "source": [
    "page = requests.get('https://store.tcgplayer.com/admin/orders/manageorder/C194057A-200057-39E38')"
   ]
  },
  {
   "cell_type": "code",
   "execution_count": 11,
   "id": "5001b75c",
   "metadata": {},
   "outputs": [
    {
     "data": {
      "text/plain": [
       "'<!DOCTYPE html>\\r\\n\\r\\n<html>\\r\\n<head>\\r\\n    <meta name=\"viewport\" content=\"width=device-width, initial-scale=1, maximum-scale=1\" />\\r\\n    <meta http-equiv=\"X-UA-Compatible\" content=\"IE=edge\" />\\r\\n    <meta charset=\"utf-8\" />\\r\\n    <title>Login - TCGplayer.com: Online Gaming Store for Cards, Miniatures, Singles, Packs &amp; Booster Boxes - TCGplayer.com: Online Gaming Store for Cards, Miniatures, Singles, Packs &amp; Booster Boxes</title>\\r\\n    <link rel=\"preconnect\" href=\"https://fonts.googleapis.com\">\\r\\n    <link rel=\"preconnect\" href=\"https://fonts.gstatic.com\" crossorigin>\\r\\n    <link href=\"https://fonts.googleapis.com/css2?family=Inter:wght@400;700&display=swap\" rel=\"stylesheet\">\\r\\n    \\r\\n</head>\\r\\n<body>\\r\\n    \\r\\n\\r\\n\\r\\n<link rel=\"stylesheet\" href=\"https://oauth-app.tcgplayer.com/login.css?v=313108\" />\\r\\n\\r\\n<div id=\"app\"></div>\\r\\n\\r\\n<script>\\r\\n    window.model = {\\r\\n        captchaSiteKey: \"92fe41d5-26c2-4519-a09b-a21daa9202dc\",\\r\\n        skipCaptcha: false,\\r\\n        errors: [],\\r\\n        forgotPasswordUrl: \"https://shop.tcgplayer.com/forgotpassword\",\\r\\n        appName: \"\",\\r\\n        email: \"\",\\r\\n        password: \"\",\\r\\n        requireOneTimePassword: false,\\r\\n        rememberMe: false,\\r\\n    }\\r\\n</script>\\r\\n\\r\\n<script src=\"https://oauth-app.tcgplayer.com/login.js?v=313108\"></script>\\r\\n\\r\\n</body>\\r\\n</html>\\r\\n'"
      ]
     },
     "execution_count": 11,
     "metadata": {},
     "output_type": "execute_result"
    }
   ],
   "source": [
    "page.text"
   ]
  },
  {
   "cell_type": "code",
   "execution_count": null,
   "id": "3be8987f",
   "metadata": {},
   "outputs": [],
   "source": []
  }
 ],
 "metadata": {
  "kernelspec": {
   "display_name": "Python 3 (ipykernel)",
   "language": "python",
   "name": "python3"
  },
  "language_info": {
   "codemirror_mode": {
    "name": "ipython",
    "version": 3
   },
   "file_extension": ".py",
   "mimetype": "text/x-python",
   "name": "python",
   "nbconvert_exporter": "python",
   "pygments_lexer": "ipython3",
   "version": "3.11.3"
  }
 },
 "nbformat": 4,
 "nbformat_minor": 5
}
