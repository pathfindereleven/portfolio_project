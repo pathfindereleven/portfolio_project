{
 "cells": [
  {
   "cell_type": "code",
   "execution_count": 2,
   "id": "86a5e0bd",
   "metadata": {},
   "outputs": [],
   "source": [
    "import pandas as pd\n",
    "from splinter import Browser\n",
    "from bs4 import BeautifulSoup\n",
    "import time\n",
    "from selenium import webdriver"
   ]
  },
  {
   "cell_type": "code",
   "execution_count": 3,
   "id": "945adc22",
   "metadata": {},
   "outputs": [],
   "source": [
    "df_list =  []"
   ]
  },
  {
   "cell_type": "code",
   "execution_count": 4,
   "id": "081322e9",
   "metadata": {},
   "outputs": [],
   "source": [
    "# visiting the webpage\n",
    "browser = Browser('chrome', executable_path='Resources/chromedriver.exe')\n",
    "url = 'https://www.ebay.com'\n",
    "browser.visit(url)\n"
   ]
  },
  {
   "cell_type": "code",
   "execution_count": 1149,
   "id": "d755931e",
   "metadata": {},
   "outputs": [],
   "source": [
    "# Capture htm\n",
    "req = browser.html\n",
    "soup = BeautifulSoup(req, \"html.parser\") "
   ]
  },
  {
   "cell_type": "code",
   "execution_count": 1150,
   "id": "22577c3b",
   "metadata": {},
   "outputs": [],
   "source": [
    "date = soup.find_all( \"dd\", class_=\"info-value\")\n",
    "date = (date[3]).text\n",
    "\n",
    "gross = soup.find_all( \"span\", class_=\"sh-bold\")\n",
    "gross = (gross[20]).text\n",
    "\n",
    "name = soup.find_all( \"span\", class_=\"PSEUDOLINK\")\n",
    "name = (name[0]).text\n"
   ]
  },
  {
   "cell_type": "code",
   "execution_count": 1151,
   "id": "1515662d",
   "metadata": {},
   "outputs": [
    {
     "data": {
      "text/plain": [
       "'$26.15'"
      ]
     },
     "execution_count": 1151,
     "metadata": {},
     "output_type": "execute_result"
    }
   ],
   "source": [
    "gross\n",
    "#date"
   ]
  },
  {
   "cell_type": "code",
   "execution_count": 1152,
   "id": "a71d312b",
   "metadata": {},
   "outputs": [
    {
     "name": "stdout",
     "output_type": "stream",
     "text": [
      "Warhammer Wood Elf Archers 16x Jan 1, 2024 $26.15\n"
     ]
    }
   ],
   "source": [
    "print(name, date, gross)"
   ]
  },
  {
   "cell_type": "code",
   "execution_count": 1153,
   "id": "7244ee38",
   "metadata": {},
   "outputs": [],
   "source": [
    "row = []\n",
    "row.append(date)\n",
    "row.append(gross)\n",
    "row.append(name)\n",
    "df_list.append(row)"
   ]
  },
  {
   "cell_type": "code",
   "execution_count": 1154,
   "id": "9f344f5b",
   "metadata": {},
   "outputs": [],
   "source": [
    "#df_list.pop(23)"
   ]
  },
  {
   "cell_type": "code",
   "execution_count": 1155,
   "id": "344a687f",
   "metadata": {},
   "outputs": [
    {
     "data": {
      "text/html": [
       "<div>\n",
       "<style scoped>\n",
       "    .dataframe tbody tr th:only-of-type {\n",
       "        vertical-align: middle;\n",
       "    }\n",
       "\n",
       "    .dataframe tbody tr th {\n",
       "        vertical-align: top;\n",
       "    }\n",
       "\n",
       "    .dataframe thead th {\n",
       "        text-align: right;\n",
       "    }\n",
       "</style>\n",
       "<table border=\"1\" class=\"dataframe\">\n",
       "  <thead>\n",
       "    <tr style=\"text-align: right;\">\n",
       "      <th></th>\n",
       "      <th>date</th>\n",
       "      <th>revenue</th>\n",
       "      <th>name</th>\n",
       "    </tr>\n",
       "  </thead>\n",
       "  <tbody>\n",
       "    <tr>\n",
       "      <th>0</th>\n",
       "      <td>Dec 24, 2023</td>\n",
       "      <td>$39.83</td>\n",
       "      <td>Warhammer Age of Sigmar Orruk Warclans Breaka-...</td>\n",
       "    </tr>\n",
       "    <tr>\n",
       "      <th>1</th>\n",
       "      <td>Dec 22, 2023</td>\n",
       "      <td>$24.86</td>\n",
       "      <td>Warhammer High Elf Lord</td>\n",
       "    </tr>\n",
       "    <tr>\n",
       "      <th>2</th>\n",
       "      <td>Dec 20, 2023</td>\n",
       "      <td>$20.81</td>\n",
       "      <td>Warhammer Adeptus Sororitas Penitent Engine</td>\n",
       "    </tr>\n",
       "    <tr>\n",
       "      <th>3</th>\n",
       "      <td>Dec 19, 2023</td>\n",
       "      <td>$18.23</td>\n",
       "      <td>Warhammer Chaos Warriors 6x</td>\n",
       "    </tr>\n",
       "    <tr>\n",
       "      <th>4</th>\n",
       "      <td>Dec 13, 2023</td>\n",
       "      <td>$10.58</td>\n",
       "      <td>Mantic Skeletons 10x</td>\n",
       "    </tr>\n",
       "    <tr>\n",
       "      <th>...</th>\n",
       "      <td>...</td>\n",
       "      <td>...</td>\n",
       "      <td>...</td>\n",
       "    </tr>\n",
       "    <tr>\n",
       "      <th>120</th>\n",
       "      <td>Jan 3, 2024</td>\n",
       "      <td>$31.97</td>\n",
       "      <td>LEGO Star Wars: 501st Legion Clone Troopers (7...</td>\n",
       "    </tr>\n",
       "    <tr>\n",
       "      <th>121</th>\n",
       "      <td>Jan 2, 2024</td>\n",
       "      <td>$26.43</td>\n",
       "      <td>Warhammer Mk 3 Space Marine New On Sprue</td>\n",
       "    </tr>\n",
       "    <tr>\n",
       "      <th>122</th>\n",
       "      <td>Jan 2, 2024</td>\n",
       "      <td>$26.34</td>\n",
       "      <td>Warhammer Leviathan Screamer Killer</td>\n",
       "    </tr>\n",
       "    <tr>\n",
       "      <th>123</th>\n",
       "      <td>Jan 2, 2024</td>\n",
       "      <td>$26.44</td>\n",
       "      <td>Warhammer Chaos Cultists Dark Vengeance 10x B</td>\n",
       "    </tr>\n",
       "    <tr>\n",
       "      <th>124</th>\n",
       "      <td>Jan 1, 2024</td>\n",
       "      <td>$26.15</td>\n",
       "      <td>Warhammer Wood Elf Archers 16x</td>\n",
       "    </tr>\n",
       "  </tbody>\n",
       "</table>\n",
       "<p>125 rows × 3 columns</p>\n",
       "</div>"
      ],
      "text/plain": [
       "             date revenue                                               name\n",
       "0    Dec 24, 2023  $39.83  Warhammer Age of Sigmar Orruk Warclans Breaka-...\n",
       "1    Dec 22, 2023  $24.86                            Warhammer High Elf Lord\n",
       "2    Dec 20, 2023  $20.81        Warhammer Adeptus Sororitas Penitent Engine\n",
       "3    Dec 19, 2023  $18.23                        Warhammer Chaos Warriors 6x\n",
       "4    Dec 13, 2023  $10.58                               Mantic Skeletons 10x\n",
       "..            ...     ...                                                ...\n",
       "120   Jan 3, 2024  $31.97  LEGO Star Wars: 501st Legion Clone Troopers (7...\n",
       "121   Jan 2, 2024  $26.43          Warhammer Mk 3 Space Marine New On Sprue \n",
       "122   Jan 2, 2024  $26.34                Warhammer Leviathan Screamer Killer\n",
       "123   Jan 2, 2024  $26.44      Warhammer Chaos Cultists Dark Vengeance 10x B\n",
       "124   Jan 1, 2024  $26.15                     Warhammer Wood Elf Archers 16x\n",
       "\n",
       "[125 rows x 3 columns]"
      ]
     },
     "execution_count": 1155,
     "metadata": {},
     "output_type": "execute_result"
    }
   ],
   "source": [
    "df = pd.DataFrame(df_list, columns =[\"date\", \"revenue\", \"name\" ])\n",
    "df"
   ]
  },
  {
   "cell_type": "code",
   "execution_count": 1157,
   "id": "304c13db",
   "metadata": {},
   "outputs": [],
   "source": [
    "backup = df"
   ]
  },
  {
   "cell_type": "code",
   "execution_count": 1158,
   "id": "7e9e9bec",
   "metadata": {},
   "outputs": [
    {
     "data": {
      "text/html": [
       "<div>\n",
       "<style scoped>\n",
       "    .dataframe tbody tr th:only-of-type {\n",
       "        vertical-align: middle;\n",
       "    }\n",
       "\n",
       "    .dataframe tbody tr th {\n",
       "        vertical-align: top;\n",
       "    }\n",
       "\n",
       "    .dataframe thead th {\n",
       "        text-align: right;\n",
       "    }\n",
       "</style>\n",
       "<table border=\"1\" class=\"dataframe\">\n",
       "  <thead>\n",
       "    <tr style=\"text-align: right;\">\n",
       "      <th></th>\n",
       "      <th>date</th>\n",
       "      <th>revenue</th>\n",
       "      <th>name</th>\n",
       "    </tr>\n",
       "  </thead>\n",
       "  <tbody>\n",
       "    <tr>\n",
       "      <th>0</th>\n",
       "      <td>Dec 24, 2023</td>\n",
       "      <td>$39.83</td>\n",
       "      <td>Warhammer Age of Sigmar Orruk Warclans Breaka-...</td>\n",
       "    </tr>\n",
       "    <tr>\n",
       "      <th>1</th>\n",
       "      <td>Dec 22, 2023</td>\n",
       "      <td>$24.86</td>\n",
       "      <td>Warhammer High Elf Lord</td>\n",
       "    </tr>\n",
       "    <tr>\n",
       "      <th>2</th>\n",
       "      <td>Dec 20, 2023</td>\n",
       "      <td>$20.81</td>\n",
       "      <td>Warhammer Adeptus Sororitas Penitent Engine</td>\n",
       "    </tr>\n",
       "    <tr>\n",
       "      <th>3</th>\n",
       "      <td>Dec 19, 2023</td>\n",
       "      <td>$18.23</td>\n",
       "      <td>Warhammer Chaos Warriors 6x</td>\n",
       "    </tr>\n",
       "    <tr>\n",
       "      <th>4</th>\n",
       "      <td>Dec 13, 2023</td>\n",
       "      <td>$10.58</td>\n",
       "      <td>Mantic Skeletons 10x</td>\n",
       "    </tr>\n",
       "    <tr>\n",
       "      <th>...</th>\n",
       "      <td>...</td>\n",
       "      <td>...</td>\n",
       "      <td>...</td>\n",
       "    </tr>\n",
       "    <tr>\n",
       "      <th>120</th>\n",
       "      <td>Jan 3, 2024</td>\n",
       "      <td>$31.97</td>\n",
       "      <td>LEGO Star Wars: 501st Legion Clone Troopers (7...</td>\n",
       "    </tr>\n",
       "    <tr>\n",
       "      <th>121</th>\n",
       "      <td>Jan 2, 2024</td>\n",
       "      <td>$26.43</td>\n",
       "      <td>Warhammer Mk 3 Space Marine New On Sprue</td>\n",
       "    </tr>\n",
       "    <tr>\n",
       "      <th>122</th>\n",
       "      <td>Jan 2, 2024</td>\n",
       "      <td>$26.34</td>\n",
       "      <td>Warhammer Leviathan Screamer Killer</td>\n",
       "    </tr>\n",
       "    <tr>\n",
       "      <th>123</th>\n",
       "      <td>Jan 2, 2024</td>\n",
       "      <td>$26.44</td>\n",
       "      <td>Warhammer Chaos Cultists Dark Vengeance 10x B</td>\n",
       "    </tr>\n",
       "    <tr>\n",
       "      <th>124</th>\n",
       "      <td>Jan 1, 2024</td>\n",
       "      <td>$26.15</td>\n",
       "      <td>Warhammer Wood Elf Archers 16x</td>\n",
       "    </tr>\n",
       "  </tbody>\n",
       "</table>\n",
       "<p>125 rows × 3 columns</p>\n",
       "</div>"
      ],
      "text/plain": [
       "             date revenue                                               name\n",
       "0    Dec 24, 2023  $39.83  Warhammer Age of Sigmar Orruk Warclans Breaka-...\n",
       "1    Dec 22, 2023  $24.86                            Warhammer High Elf Lord\n",
       "2    Dec 20, 2023  $20.81        Warhammer Adeptus Sororitas Penitent Engine\n",
       "3    Dec 19, 2023  $18.23                        Warhammer Chaos Warriors 6x\n",
       "4    Dec 13, 2023  $10.58                               Mantic Skeletons 10x\n",
       "..            ...     ...                                                ...\n",
       "120   Jan 3, 2024  $31.97  LEGO Star Wars: 501st Legion Clone Troopers (7...\n",
       "121   Jan 2, 2024  $26.43          Warhammer Mk 3 Space Marine New On Sprue \n",
       "122   Jan 2, 2024  $26.34                Warhammer Leviathan Screamer Killer\n",
       "123   Jan 2, 2024  $26.44      Warhammer Chaos Cultists Dark Vengeance 10x B\n",
       "124   Jan 1, 2024  $26.15                     Warhammer Wood Elf Archers 16x\n",
       "\n",
       "[125 rows x 3 columns]"
      ]
     },
     "execution_count": 1158,
     "metadata": {},
     "output_type": "execute_result"
    }
   ],
   "source": [
    "backup"
   ]
  },
  {
   "cell_type": "code",
   "execution_count": null,
   "id": "dd825200",
   "metadata": {},
   "outputs": [],
   "source": []
  },
  {
   "cell_type": "code",
   "execution_count": 1159,
   "id": "362ef02d",
   "metadata": {},
   "outputs": [],
   "source": [
    "backup.to_csv(\"ebay_sales\")"
   ]
  },
  {
   "cell_type": "code",
   "execution_count": null,
   "id": "4f1a5b47",
   "metadata": {},
   "outputs": [],
   "source": []
  }
 ],
 "metadata": {
  "kernelspec": {
   "display_name": "Python 3 (ipykernel)",
   "language": "python",
   "name": "python3"
  },
  "language_info": {
   "codemirror_mode": {
    "name": "ipython",
    "version": 3
   },
   "file_extension": ".py",
   "mimetype": "text/x-python",
   "name": "python",
   "nbconvert_exporter": "python",
   "pygments_lexer": "ipython3",
   "version": "3.11.3"
  }
 },
 "nbformat": 4,
 "nbformat_minor": 5
}
