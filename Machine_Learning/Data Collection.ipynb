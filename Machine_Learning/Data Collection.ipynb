{
 "cells": [
  {
   "cell_type": "code",
   "execution_count": 1,
   "id": "add3b96d",
   "metadata": {},
   "outputs": [],
   "source": [
    "import requests\n",
    "from urllib.parse import quote\n",
    "import pandas as pd\n",
    "from pathlib import Path\n",
    "import sqlite3"
   ]
  },
  {
   "cell_type": "code",
   "execution_count": 2,
   "id": "f6215b31",
   "metadata": {},
   "outputs": [],
   "source": [
    "sset = \"XLN\"\n",
    "urlstring ='Ixalan'\n",
    "releasedate = '2017-09-29'"
   ]
  },
  {
   "cell_type": "code",
   "execution_count": 3,
   "id": "447b45de",
   "metadata": {},
   "outputs": [],
   "source": [
    "url = f\"https://www.mtggoldfish.com/sets/{urlstring}#paper\"\n",
    "res = requests.get(url)"
   ]
  },
  {
   "cell_type": "code",
   "execution_count": 4,
   "id": "113688b9",
   "metadata": {},
   "outputs": [],
   "source": [
    "markup = res.text\n",
    "delim =  f'var d = \"Date,{sset}-main_set\";'                      #'hash == \"#tab-paper\"'\n",
    "chunks = markup.split(delim)\n",
    "chunks.pop(0)\n",
    "markup = ''.join(chunks)\n",
    "delim = 'g = new Dygraph'\n",
    "chunks = markup.split(delim)\n",
    "markup = chunks.pop(0).rstrip()\n",
    "delim = 'g = new Dygraph'\n",
    "chunks = markup.split(delim)\n",
    "markup = chunks.pop(0).rstrip()\n",
    "lines = markup.splitlines()\n",
    "for i, line in enumerate(lines):\n",
    "    lines[i] = line.strip().lstrip('d += \"\\\\n').rstrip('\";')\n",
    "    csv = '\\n'.join(lines)\n",
    "lines.pop(0)\n",
    "df =[]\n",
    "for i in lines:\n",
    "    i = i.split(',')\n",
    "    df.append([i[0],i[1]])\n"
   ]
  },
  {
   "cell_type": "code",
   "execution_count": 5,
   "id": "b3cfa4d9",
   "metadata": {},
   "outputs": [
    {
     "data": {
      "text/html": [
       "<div>\n",
       "<style scoped>\n",
       "    .dataframe tbody tr th:only-of-type {\n",
       "        vertical-align: middle;\n",
       "    }\n",
       "\n",
       "    .dataframe tbody tr th {\n",
       "        vertical-align: top;\n",
       "    }\n",
       "\n",
       "    .dataframe thead th {\n",
       "        text-align: right;\n",
       "    }\n",
       "</style>\n",
       "<table border=\"1\" class=\"dataframe\">\n",
       "  <thead>\n",
       "    <tr style=\"text-align: right;\">\n",
       "      <th></th>\n",
       "      <th>date</th>\n",
       "      <th>price</th>\n",
       "      <th>setcode</th>\n",
       "    </tr>\n",
       "  </thead>\n",
       "  <tbody>\n",
       "    <tr>\n",
       "      <th>32</th>\n",
       "      <td>2017-09-29</td>\n",
       "      <td>328.94</td>\n",
       "      <td>XLN</td>\n",
       "    </tr>\n",
       "    <tr>\n",
       "      <th>33</th>\n",
       "      <td>2017-09-30</td>\n",
       "      <td>326.81</td>\n",
       "      <td>XLN</td>\n",
       "    </tr>\n",
       "    <tr>\n",
       "      <th>34</th>\n",
       "      <td>2017-10-01</td>\n",
       "      <td>327.37</td>\n",
       "      <td>XLN</td>\n",
       "    </tr>\n",
       "  </tbody>\n",
       "</table>\n",
       "</div>"
      ],
      "text/plain": [
       "          date    price setcode\n",
       "32  2017-09-29   328.94     XLN\n",
       "33  2017-09-30   326.81     XLN\n",
       "34  2017-10-01   327.37     XLN"
      ]
     },
     "execution_count": 5,
     "metadata": {},
     "output_type": "execute_result"
    }
   ],
   "source": [
    "df = pd.DataFrame(df, columns = ['date', 'price'])\n",
    "df['setcode'] = sset\n",
    "df = df.loc[df['date'] >= releasedate] \n",
    "df.head(3)"
   ]
  },
  {
   "cell_type": "code",
   "execution_count": 7,
   "id": "6af474e2",
   "metadata": {},
   "outputs": [],
   "source": [
    "##price =  Path(\"../Resources/price.db\")\n",
    "con = sqlite3.connect(price)        # conect to price db\n",
    "cur = con.cursor()"
   ]
  },
  {
   "cell_type": "code",
   "execution_count": 8,
   "id": "1b38f2d7",
   "metadata": {},
   "outputs": [],
   "source": [
    " for row in df.itertuples():           # else not exist write new data to db \n",
    "            insert_sql = f''' INSERT INTO 'goldfish' ('date', 'price', 'setcode') VALUES ('{row[1]}',\"{row[2]}\",'{row[3]}')'''\n",
    "            cur.execute(insert_sql)"
   ]
  },
  {
   "cell_type": "code",
   "execution_count": 9,
   "id": "a9ec180d",
   "metadata": {},
   "outputs": [],
   "source": [
    "##con.commit()"
   ]
  },
  {
   "cell_type": "code",
   "execution_count": null,
   "id": "e524804c",
   "metadata": {},
   "outputs": [],
   "source": []
  }
 ],
 "metadata": {
  "kernelspec": {
   "display_name": "Python 3 (ipykernel)",
   "language": "python",
   "name": "python3"
  },
  "language_info": {
   "codemirror_mode": {
    "name": "ipython",
    "version": 3
   },
   "file_extension": ".py",
   "mimetype": "text/x-python",
   "name": "python",
   "nbconvert_exporter": "python",
   "pygments_lexer": "ipython3",
   "version": "3.10.9"
  }
 },
 "nbformat": 4,
 "nbformat_minor": 5
}
