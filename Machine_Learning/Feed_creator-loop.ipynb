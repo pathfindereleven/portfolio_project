{
 "cells": [
  {
   "cell_type": "code",
   "execution_count": 1,
   "id": "db032965",
   "metadata": {},
   "outputs": [],
   "source": [
    "import pandas as pd\n",
    "from pathlib import Path\n",
    "import sqlite3\n",
    "import pandasql as ps"
   ]
  },
  {
   "cell_type": "code",
   "execution_count": 2,
   "id": "c0aa85b1",
   "metadata": {},
   "outputs": [],
   "source": [
    "setcode = [\"WAR\", 'MID', 'NEO', 'VOW', \"KHM\", 'XLN']"
   ]
  },
  {
   "cell_type": "code",
   "execution_count": 3,
   "id": "ada4d7b3",
   "metadata": {},
   "outputs": [],
   "source": [
    "price =  Path(\"../Resources/price.db\")\n",
    "con = sqlite3.connect(price)        # conect to price db\n",
    "cur = con.cursor()\n",
    "feed_df = pd.DataFrame()"
   ]
  },
  {
   "cell_type": "code",
   "execution_count": 4,
   "id": "54a6aa31",
   "metadata": {},
   "outputs": [],
   "source": [
    "for i in setcode:\n",
    "    db_df = pd.read_sql_query(f\"SELECT * FROM 'goldfish' where setcode = '{i}'\", con)\n",
    "    file_path = Path(f\"resources\\set_tables\\{i}.csv\")\n",
    "    set_info = pd.read_csv(file_path)\n",
    "    rarities_count = set_info['rarity'].value_counts()\n",
    "    db_df['rare'] = rarities_count['rare']\n",
    "    db_df['mythic'] = rarities_count['mythic']\n",
    "    db_df['uncommon'] = rarities_count['uncommon']\n",
    "    db_df['common'] = rarities_count['common']\n",
    "    q1 = \"\"\"SELECT subtypes FROM set_info where subtypes like '%angel%' \"\"\"\n",
    "    q1 = (ps.sqldf(q1, locals()))\n",
    "    db_df['angel'] = len(q1)\n",
    "    q2 = \"\"\"SELECT subtypes FROM set_info where subtypes like '%human%' \"\"\"\n",
    "    q2 = (ps.sqldf(q2, locals()))\n",
    "    db_df['human'] = len(q2)\n",
    "    q3 = \"\"\"SELECT subtypes FROM set_info where subtypes like '%zombie%' \"\"\"\n",
    "    q3 = (ps.sqldf(q3, locals()))\n",
    "    db_df['zombie'] = len(q3)\n",
    "    db_df = db_df.assign(day_int=db_df.index)\n",
    "    feed_df = pd.concat([feed_df,db_df])"
   ]
  },
  {
   "cell_type": "code",
   "execution_count": 5,
   "id": "54894fdb",
   "metadata": {},
   "outputs": [],
   "source": [
    "feed_df"
   ]
  },
  {
   "cell_type": "code",
   "execution_count": null,
   "id": "ba810307",
   "metadata": {},
   "outputs": [],
   "source": [
    "feed_df.to_csv(\"feed.csv\") "
   ]
  }
 ],
 "metadata": {
  "kernelspec": {
   "display_name": "Python 3 (ipykernel)",
   "language": "python",
   "name": "python3"
  },
  "language_info": {
   "codemirror_mode": {
    "name": "ipython",
    "version": 3
   },
   "file_extension": ".py",
   "mimetype": "text/x-python",
   "name": "python",
   "nbconvert_exporter": "python",
   "pygments_lexer": "ipython3",
   "version": "3.10.9"
  }
 },
 "nbformat": 4,
 "nbformat_minor": 5
}
