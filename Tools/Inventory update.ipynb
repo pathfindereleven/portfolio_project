{
 "cells": [
  {
   "cell_type": "code",
   "execution_count": 1,
   "id": "0533d660",
   "metadata": {},
   "outputs": [],
   "source": [
    "import pandas as pd\n",
    "from splinter import Browser\n",
    "from bs4 import BeautifulSoup\n",
    "import time\n",
    "from selenium import webdriver\n",
    "from pathlib import Path\n",
    "from datetime import datetime\n",
    "import sqlite3"
   ]
  },
  {
   "cell_type": "code",
   "execution_count": 2,
   "id": "e1ee6166",
   "metadata": {},
   "outputs": [],
   "source": [
    "# make query dictionary of the table name and matching querry string\n",
    "query_dic = {'STX': 'strixhaven-school-of-mages','RNA':'ravnica-allegiance','GRN': 'guilds-of-ravnica','WAR':'war-of-the-spark','THS': 'theros','BNG': 'born-of-the-gods','THB': 'theros-beyond-death','MID':'innistrad-midnight-hunt','10E':'10th-edition', 'BRO':'the-brothers-war', 'DGM':'dragons-maze',\n",
    " 'DMU':'dominaria-united', 'ELD':'throne-of-eldraine', 'GTC':'gatecrash', 'MAT':'march-of-the-machine-the-aftermath', \n",
    "   'MOM':'march-of-the-machine', 'NEO':'kamigawa-neon-dynasty', 'ONE':'phyrexia-all-will-be-one', 'RTR':'return-to-ravnica',\n",
    "  'SNC':'streets-of-new-capenna', 'VOW':'innistrad-crimson-vow', 'WOE': 'wilds-of-eldraine'}\n",
    "loop_values = list(query_dic.values())  #seperate key and value\n",
    "loop_key = list(query_dic.keys())   \n",
    "#print(loop_values)                              ### print lists if needed\n",
    "#print(loop_key)"
   ]
  },
  {
   "cell_type": "code",
   "execution_count": 3,
   "id": "e6726ea7",
   "metadata": {},
   "outputs": [],
   "source": [
    "browser = Browser('chrome', executable_path='../Resources/chromedriver.exe')      # set chromedriver path"
   ]
  },
  {
   "cell_type": "code",
   "execution_count": 4,
   "id": "eb932b0c",
   "metadata": {},
   "outputs": [
    {
     "name": "stdout",
     "output_type": "stream",
     "text": [
      "STX updated sucesfully\n",
      "RNA updated sucesfully\n",
      "GRN updated sucesfully\n",
      "WAR updated sucesfully\n",
      "THS updated sucesfully\n",
      "BNG updated sucesfully\n",
      "THB updated sucesfully\n"
     ]
    },
    {
     "ename": "NoSuchWindowException",
     "evalue": "Message: no such window: target window already closed\nfrom unknown error: web view not found\n  (Session info: chrome=120.0.6099.71)\nStacktrace:\n\tGetHandleVerifier [0x008E72A3+45731]\n\t(No symbol) [0x00872D51]\n\t(No symbol) [0x0076880D]\n\t(No symbol) [0x0074F75E]\n\t(No symbol) [0x007BC11B]\n\t(No symbol) [0x007CB2D3]\n\t(No symbol) [0x007B7DD6]\n\t(No symbol) [0x007931F6]\n\t(No symbol) [0x0079439D]\n\tGetHandleVerifier [0x00BF0716+3229462]\n\tGetHandleVerifier [0x00C384C8+3523784]\n\tGetHandleVerifier [0x00C3214C+3498316]\n\tGetHandleVerifier [0x00971680+611968]\n\t(No symbol) [0x0087CCCC]\n\t(No symbol) [0x00878DF8]\n\t(No symbol) [0x00878F1D]\n\t(No symbol) [0x0086B2C7]\n\tBaseThreadInitThunk [0x76E1FCC9+25]\n\tRtlGetAppContainerNamedObjectPath [0x77B57C6E+286]\n\tRtlGetAppContainerNamedObjectPath [0x77B57C3E+238]\n",
     "output_type": "error",
     "traceback": [
      "\u001b[1;31m---------------------------------------------------------------------------\u001b[0m",
      "\u001b[1;31mNoSuchWindowException\u001b[0m                     Traceback (most recent call last)",
      "Cell \u001b[1;32mIn[4], line 5\u001b[0m\n\u001b[0;32m      3\u001b[0m url_string \u001b[38;5;241m=\u001b[39m  loop_values[i]   \u001b[38;5;66;03m# url string related to update\u001b[39;00m\n\u001b[0;32m      4\u001b[0m url \u001b[38;5;241m=\u001b[39m\u001b[38;5;124mf\u001b[39m\u001b[38;5;124m\"\u001b[39m\u001b[38;5;124mhttps://shop.tcgplayer.com/price-guide/magic/\u001b[39m\u001b[38;5;132;01m{\u001b[39;00murl_string\u001b[38;5;132;01m}\u001b[39;00m\u001b[38;5;124m\"\u001b[39m\n\u001b[1;32m----> 5\u001b[0m browser\u001b[38;5;241m.\u001b[39mvisit(url)         \n\u001b[0;32m      6\u001b[0m browser\u001b[38;5;241m.\u001b[39mdriver\u001b[38;5;241m.\u001b[39mmaximize_window()\n\u001b[0;32m      7\u001b[0m time\u001b[38;5;241m.\u001b[39msleep(\u001b[38;5;241m6\u001b[39m)                              \u001b[38;5;66;03m# visit url and make soup\u001b[39;00m\n",
      "File \u001b[1;32m~\\anaconda3\\Lib\\site-packages\\splinter\\driver\\webdriver\\__init__.py:323\u001b[0m, in \u001b[0;36mBaseWebDriver.visit\u001b[1;34m(self, url)\u001b[0m\n\u001b[0;32m    322\u001b[0m \u001b[38;5;28;01mdef\u001b[39;00m \u001b[38;5;21mvisit\u001b[39m(\u001b[38;5;28mself\u001b[39m, url):\n\u001b[1;32m--> 323\u001b[0m     \u001b[38;5;28mself\u001b[39m\u001b[38;5;241m.\u001b[39mdriver\u001b[38;5;241m.\u001b[39mget(url)\n",
      "File \u001b[1;32m~\\anaconda3\\Lib\\site-packages\\selenium\\webdriver\\remote\\webdriver.py:442\u001b[0m, in \u001b[0;36mWebDriver.get\u001b[1;34m(self, url)\u001b[0m\n\u001b[0;32m    438\u001b[0m \u001b[38;5;28;01mdef\u001b[39;00m \u001b[38;5;21mget\u001b[39m(\u001b[38;5;28mself\u001b[39m, url: \u001b[38;5;28mstr\u001b[39m) \u001b[38;5;241m-\u001b[39m\u001b[38;5;241m>\u001b[39m \u001b[38;5;28;01mNone\u001b[39;00m:\n\u001b[0;32m    439\u001b[0m \u001b[38;5;250m    \u001b[39m\u001b[38;5;124;03m\"\"\"\u001b[39;00m\n\u001b[0;32m    440\u001b[0m \u001b[38;5;124;03m    Loads a web page in the current browser session.\u001b[39;00m\n\u001b[0;32m    441\u001b[0m \u001b[38;5;124;03m    \"\"\"\u001b[39;00m\n\u001b[1;32m--> 442\u001b[0m     \u001b[38;5;28mself\u001b[39m\u001b[38;5;241m.\u001b[39mexecute(Command\u001b[38;5;241m.\u001b[39mGET, {\u001b[38;5;124m'\u001b[39m\u001b[38;5;124murl\u001b[39m\u001b[38;5;124m'\u001b[39m: url})\n",
      "File \u001b[1;32m~\\anaconda3\\Lib\\site-packages\\selenium\\webdriver\\remote\\webdriver.py:430\u001b[0m, in \u001b[0;36mWebDriver.execute\u001b[1;34m(self, driver_command, params)\u001b[0m\n\u001b[0;32m    428\u001b[0m response \u001b[38;5;241m=\u001b[39m \u001b[38;5;28mself\u001b[39m\u001b[38;5;241m.\u001b[39mcommand_executor\u001b[38;5;241m.\u001b[39mexecute(driver_command, params)\n\u001b[0;32m    429\u001b[0m \u001b[38;5;28;01mif\u001b[39;00m response:\n\u001b[1;32m--> 430\u001b[0m     \u001b[38;5;28mself\u001b[39m\u001b[38;5;241m.\u001b[39merror_handler\u001b[38;5;241m.\u001b[39mcheck_response(response)\n\u001b[0;32m    431\u001b[0m     response[\u001b[38;5;124m'\u001b[39m\u001b[38;5;124mvalue\u001b[39m\u001b[38;5;124m'\u001b[39m] \u001b[38;5;241m=\u001b[39m \u001b[38;5;28mself\u001b[39m\u001b[38;5;241m.\u001b[39m_unwrap_value(\n\u001b[0;32m    432\u001b[0m         response\u001b[38;5;241m.\u001b[39mget(\u001b[38;5;124m'\u001b[39m\u001b[38;5;124mvalue\u001b[39m\u001b[38;5;124m'\u001b[39m, \u001b[38;5;28;01mNone\u001b[39;00m))\n\u001b[0;32m    433\u001b[0m     \u001b[38;5;28;01mreturn\u001b[39;00m response\n",
      "File \u001b[1;32m~\\anaconda3\\Lib\\site-packages\\selenium\\webdriver\\remote\\errorhandler.py:247\u001b[0m, in \u001b[0;36mErrorHandler.check_response\u001b[1;34m(self, response)\u001b[0m\n\u001b[0;32m    245\u001b[0m         alert_text \u001b[38;5;241m=\u001b[39m value[\u001b[38;5;124m'\u001b[39m\u001b[38;5;124malert\u001b[39m\u001b[38;5;124m'\u001b[39m]\u001b[38;5;241m.\u001b[39mget(\u001b[38;5;124m'\u001b[39m\u001b[38;5;124mtext\u001b[39m\u001b[38;5;124m'\u001b[39m)\n\u001b[0;32m    246\u001b[0m     \u001b[38;5;28;01mraise\u001b[39;00m exception_class(message, screen, stacktrace, alert_text)  \u001b[38;5;66;03m# type: ignore[call-arg]  # mypy is not smart enough here\u001b[39;00m\n\u001b[1;32m--> 247\u001b[0m \u001b[38;5;28;01mraise\u001b[39;00m exception_class(message, screen, stacktrace)\n",
      "\u001b[1;31mNoSuchWindowException\u001b[0m: Message: no such window: target window already closed\nfrom unknown error: web view not found\n  (Session info: chrome=120.0.6099.71)\nStacktrace:\n\tGetHandleVerifier [0x008E72A3+45731]\n\t(No symbol) [0x00872D51]\n\t(No symbol) [0x0076880D]\n\t(No symbol) [0x0074F75E]\n\t(No symbol) [0x007BC11B]\n\t(No symbol) [0x007CB2D3]\n\t(No symbol) [0x007B7DD6]\n\t(No symbol) [0x007931F6]\n\t(No symbol) [0x0079439D]\n\tGetHandleVerifier [0x00BF0716+3229462]\n\tGetHandleVerifier [0x00C384C8+3523784]\n\tGetHandleVerifier [0x00C3214C+3498316]\n\tGetHandleVerifier [0x00971680+611968]\n\t(No symbol) [0x0087CCCC]\n\t(No symbol) [0x00878DF8]\n\t(No symbol) [0x00878F1D]\n\t(No symbol) [0x0086B2C7]\n\tBaseThreadInitThunk [0x76E1FCC9+25]\n\tRtlGetAppContainerNamedObjectPath [0x77B57C6E+286]\n\tRtlGetAppContainerNamedObjectPath [0x77B57C3E+238]\n"
     ]
    }
   ],
   "source": [
    "for i in range(len(loop_key)):  # start loop in range of dictionary\n",
    "    dbtable = loop_key[i]       # table to update\n",
    "    url_string =  loop_values[i]   # url string related to update\n",
    "    url =f\"https://shop.tcgplayer.com/price-guide/magic/{url_string}\"\n",
    "    browser.visit(url)         \n",
    "    browser.driver.maximize_window()\n",
    "    time.sleep(6)                              # visit url and make soup\n",
    "    req = browser.html\n",
    "    soup = BeautifulSoup(req, \"html\")\n",
    "# scrape data\n",
    "    names= []\n",
    "    title_tags = soup.find_all('a', class_ = \"pdp-url\")    # scrape card names into list\n",
    "    for i in title_tags:\n",
    "           names.append(i.text)\n",
    "    prices =[]\n",
    "    price = soup.find_all('td', class_ = \"tcg-table-body__cell tcg-table-body__cell--align-right\")  \n",
    "    count = -1\n",
    "    for i in price:                   # scrape card price to list\n",
    "        count = count +1             # account for every other value in html\n",
    "        if  count%2 > 0 :\n",
    "            prices.append(i.text)   \n",
    "    price_list= zip(names, prices)\n",
    "    mkt_df = pd.DataFrame(price_list,columns = ['Name', 'Market Price'])  # create dataframe\n",
    "    mkt_df['date']= datetime.today().strftime('%Y-%m-%d')\n",
    "    price =  Path(\"../Resources/inventory.db\")          # build db conection\n",
    "    con = sqlite3.connect(price)\n",
    "    cur = con.cursor()\n",
    "    db_df = pd.read_sql_query(f\"SELECT * FROM '{dbtable}'\", con)  # open inventory db to df to match names\n",
    "    count = 0\n",
    "    while count < len(db_df):                    # while loop to take name from scraped data match to db table\n",
    "        try:                                     #     if match update db if not continue loop. count put in to ensure \n",
    "            for i in range(count , len(db_df)):  #     loop continues if no match\n",
    "                search = db_df.loc[i,['name']]   #\n",
    "                search = search['name']\n",
    "                search_df = mkt_df.loc[mkt_df['Name'] == search]\n",
    "                           # break if no match\n",
    "                search_df.reset_index(drop=True, inplace=True)\n",
    "                search_result = search_df[\"Market Price\"][0]\n",
    "                db_df.loc[i,['MktPrice']] = search_result\n",
    "                count = count + 1\n",
    "        except: # if no match \n",
    "                db_df.loc[i,['MktPrice']] = \"0\"\n",
    "                count = count + 1\n",
    "\n",
    "    for i in range(len(mkt_df)):\n",
    "        search = mkt_df.loc[i,['Name']]   # write loop df to database table and save\n",
    "        search = search['Name']\n",
    "        x = mkt_df.loc[i,['Market Price']]  \n",
    "        x = x['Market Price']\n",
    "        insert_sql = f'''UPDATE  '{dbtable}'  set MktPrice =\"{x}\" where \"name\" = \"{search}\"'''\n",
    "        cur.execute(insert_sql)\n",
    "        con.commit()                        # commit for testing\n",
    "    print(f'{dbtable} updated sucesfully')  # print if updated "
   ]
  },
  {
   "cell_type": "code",
   "execution_count": null,
   "id": "f360bede",
   "metadata": {},
   "outputs": [],
   "source": []
  }
 ],
 "metadata": {
  "kernelspec": {
   "display_name": "Python 3 (ipykernel)",
   "language": "python",
   "name": "python3"
  },
  "language_info": {
   "codemirror_mode": {
    "name": "ipython",
    "version": 3
   },
   "file_extension": ".py",
   "mimetype": "text/x-python",
   "name": "python",
   "nbconvert_exporter": "python",
   "pygments_lexer": "ipython3",
   "version": "3.11.3"
  }
 },
 "nbformat": 4,
 "nbformat_minor": 5
}
