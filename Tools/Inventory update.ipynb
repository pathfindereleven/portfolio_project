{
 "cells": [
  {
   "cell_type": "code",
   "execution_count": 1,
   "id": "0533d660",
   "metadata": {},
   "outputs": [],
   "source": [
    "import pandas as pd\n",
    "from splinter import Browser\n",
    "from bs4 import BeautifulSoup\n",
    "import time\n",
    "from selenium import webdriver\n",
    "from pathlib import Path\n",
    "from datetime import datetime\n",
    "import sqlite3"
   ]
  },
  {
   "cell_type": "code",
   "execution_count": 2,
   "id": "e1ee6166",
   "metadata": {},
   "outputs": [],
   "source": [
    "# make query dictionary of the table name and matching querry string\n",
    "query_dic = {'GRN': 'guilds-of-ravnica','WAR':'war-of-the-spark','THS': 'theros','BNG': 'born-of-the-gods','THB': 'theros-beyond-death','MID':'innistrad-midnight-hunt','10E':'10th-edition', 'BRO':'the-brothers-war', 'DGM':'dragons-maze',\n",
    " 'DMU':'dominaria-united', 'ELD':'throne-of-eldraine', 'GTC':'gatecrash', 'MAT':'march-of-the-machine-the-aftermath', \n",
    "   'MOM':'march-of-the-machine', 'NEO':'kamigawa-neon-dynasty', 'ONE':'phyrexia-all-will-be-one', 'RTR':'return-to-ravnica',\n",
    "  'SNC':'streets-of-new-capenna', 'VOW':'innistrad-crimson-vow', 'WOE': 'wilds-of-eldraine'}\n",
    "loop_values = list(query_dic.values())  #seperate key and value\n",
    "loop_key = list(query_dic.keys())   \n",
    "#print(loop_values)                              ### print lists if needed\n",
    "#print(loop_key)"
   ]
  },
  {
   "cell_type": "code",
   "execution_count": 3,
   "id": "e6726ea7",
   "metadata": {},
   "outputs": [],
   "source": [
    "browser = Browser('chrome', executable_path='../Resources/chromedriver.exe')      # set chromedriver path"
   ]
  },
  {
   "cell_type": "code",
   "execution_count": 4,
   "id": "eb932b0c",
   "metadata": {},
   "outputs": [
    {
     "name": "stdout",
     "output_type": "stream",
     "text": [
      "GRN updated sucesfully\n",
      "WAR updated sucesfully\n",
      "THS updated sucesfully\n",
      "BNG updated sucesfully\n",
      "THB updated sucesfully\n",
      "MID updated sucesfully\n",
      "10E updated sucesfully\n",
      "BRO updated sucesfully\n",
      "DGM updated sucesfully\n",
      "DMU updated sucesfully\n",
      "ELD updated sucesfully\n",
      "GTC updated sucesfully\n",
      "MAT updated sucesfully\n",
      "MOM updated sucesfully\n",
      "NEO updated sucesfully\n",
      "ONE updated sucesfully\n",
      "RTR updated sucesfully\n",
      "SNC updated sucesfully\n",
      "VOW updated sucesfully\n",
      "WOE updated sucesfully\n"
     ]
    }
   ],
   "source": [
    "for i in range(len(loop_key)):  # start loop in range of dictionary\n",
    "    dbtable = loop_key[i]       # table to update\n",
    "    url_string =  loop_values[i]   # url string related to update\n",
    "    url =f\"https://shop.tcgplayer.com/price-guide/magic/{url_string}\"\n",
    "    browser.visit(url)         \n",
    "    browser.driver.maximize_window()\n",
    "    time.sleep(6)                              # visit url and make soup\n",
    "    req = browser.html\n",
    "    soup = BeautifulSoup(req, \"html\")\n",
    "# scrape data\n",
    "    names= []\n",
    "    title_tags = soup.find_all('a', class_ = \"pdp-url\")    # scrape card names into list\n",
    "    for i in title_tags:\n",
    "           names.append(i.text)\n",
    "    prices =[]\n",
    "    price = soup.find_all('td', class_ = \"tcg-table-body__cell tcg-table-body__cell--align-right\")  \n",
    "    count = -1\n",
    "    for i in price:                   # scrape card price to list\n",
    "        count = count +1             # account for every other value in html\n",
    "        if  count%2 > 0 :\n",
    "            prices.append(i.text)   \n",
    "    price_list= zip(names, prices)\n",
    "    mkt_df = pd.DataFrame(price_list,columns = ['Name', 'Market Price'])  # create dataframe\n",
    "    mkt_df['date']= datetime.today().strftime('%Y-%m-%d')\n",
    "    price =  Path(\"../Resources/inventory.db\")          # build db conection\n",
    "    con = sqlite3.connect(price)\n",
    "    cur = con.cursor()\n",
    "    db_df = pd.read_sql_query(f\"SELECT * FROM '{dbtable}'\", con)  # open inventory db to df to match names\n",
    "    count = 0\n",
    "    while count < len(db_df):                    # while loop to take name from scraped data match to db table\n",
    "        try:                                     #     if match update db if not continue loop. count put in to ensure \n",
    "            for i in range(count , len(db_df)):  #     loop continues if no match\n",
    "                search = db_df.loc[i,['name']]   #\n",
    "                search = search['name']\n",
    "                search_df = mkt_df.loc[mkt_df['Name'] == search]\n",
    "                           # break if no match\n",
    "                search_df.reset_index(drop=True, inplace=True)\n",
    "                search_result = search_df[\"Market Price\"][0]\n",
    "                db_df.loc[i,['MktPrice']] = search_result\n",
    "                count = count + 1\n",
    "        except: # if no match \n",
    "                db_df.loc[i,['MktPrice']] = \"0\"\n",
    "                count = count + 1\n",
    "\n",
    "    for i in range(len(mkt_df)):\n",
    "        search = mkt_df.loc[i,['Name']]   # write loop df to database table and save\n",
    "        search = search['Name']\n",
    "        x = mkt_df.loc[i,['Market Price']]  \n",
    "        x = x['Market Price']\n",
    "        insert_sql = f'''UPDATE  '{dbtable}'  set MktPrice =\"{x}\" where \"name\" = \"{search}\"'''\n",
    "        cur.execute(insert_sql)\n",
    "        con.commit()                        # commit for testing\n",
    "    print(f'{dbtable} updated sucesfully')  # print if updated "
   ]
  },
  {
   "cell_type": "code",
   "execution_count": null,
   "id": "f360bede",
   "metadata": {},
   "outputs": [],
   "source": []
  }
 ],
 "metadata": {
  "kernelspec": {
   "display_name": "Python 3 (ipykernel)",
   "language": "python",
   "name": "python3"
  },
  "language_info": {
   "codemirror_mode": {
    "name": "ipython",
    "version": 3
   },
   "file_extension": ".py",
   "mimetype": "text/x-python",
   "name": "python",
   "nbconvert_exporter": "python",
   "pygments_lexer": "ipython3",
   "version": "3.10.9"
  }
 },
 "nbformat": 4,
 "nbformat_minor": 5
}
