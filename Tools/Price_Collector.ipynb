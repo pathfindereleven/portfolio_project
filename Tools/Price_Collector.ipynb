{
 "cells": [
  {
   "cell_type": "code",
   "execution_count": 1,
   "id": "4fe50f04",
   "metadata": {},
   "outputs": [],
   "source": [
    "import pandas as pd\n",
    "from splinter import Browser\n",
    "from bs4 import BeautifulSoup\n",
    "import time\n",
    "from selenium import webdriver\n",
    "from pathlib import Path\n",
    "from datetime import datetime\n",
    "import sqlite3"
   ]
  },
  {
   "cell_type": "code",
   "execution_count": 2,
   "id": "2926f04c",
   "metadata": {},
   "outputs": [],
   "source": [
    "# link splinter browser to chromedriver path\n",
    "browser = Browser('chrome', executable_path='../Resources/chromedriver.exe')"
   ]
  },
  {
   "cell_type": "code",
   "execution_count": 3,
   "id": "15eb4a16",
   "metadata": {},
   "outputs": [],
   "source": [
    "# list of card sets formated to be end of a url string\n",
    "#sset = [\"innistrad-crimson-vow\", \"ixalan\", \"kaldheim\", \"innistrad-midnight-hunt\", \"war-of-the-spark\", \"kamigawa-neon-dynasty\"]\n",
    "sset = ['ixalan']    # switch commits to collect a single set"
   ]
  },
  {
   "cell_type": "code",
   "execution_count": 4,
   "id": "72925b2f",
   "metadata": {},
   "outputs": [
    {
     "name": "stdout",
     "output_type": "stream",
     "text": [
      "duplicate prvented for ixalan\n"
     ]
    }
   ],
   "source": [
    "for x in sset:                                           # loop through set list\n",
    "    url =f\"https://shop.tcgplayer.com/price-guide/magic/{x}\"   # visit url for set by string in list\n",
    "    browser.visit(url)\n",
    "    browser.driver.maximize_window()                # maximixe browser to insure all data loads \n",
    "    time.sleep(7)\n",
    "    req = browser.html\n",
    "    soup = BeautifulSoup(req, \"html\")\n",
    "    names= []\n",
    "    title_tags = soup.find_all('a', class_ = \"pdp-url\")   # capture card name\n",
    "    for i in title_tags:\n",
    "       names.append(i.text)\n",
    "    prices =[]\n",
    "    price = soup.find_all('td', class_ = \"tcg-table-body__cell tcg-table-body__cell--align-right\")   # capture price\n",
    "    count = -1\n",
    "    for i in price:\n",
    "        count = count +1       # account for weird way html was written and take every other value\n",
    "        if  count%2 > 0 :\n",
    "            prices.append(i.text)\n",
    "    price_list= zip(names, prices)     # turn name and price to a df\n",
    "    mkt_df = pd.DataFrame(price_list,) \n",
    "    mkt_df = mkt_df.reset_index(drop=True)\n",
    "    mkt_df.columns = ['Name', 'Market Price']\n",
    "    mkt_df['date']= datetime.today().strftime('%Y-%m-%d')   # add column for todays date\n",
    "    \n",
    "    mkt_df['Unnamed: 0']= 2       # bug to fix!!!!!!!!!!!!!\n",
    "    mkt_df = mkt_df[['Unnamed: 0', 'Name', 'Market Price', 'date']]\n",
    "    price =  Path(\"../Resources/price.db\")\n",
    "    con = sqlite3.connect(price)        # conect to price db\n",
    "    cur = con.cursor()\n",
    "    d = datetime.today().strftime('%Y-%m-%d')\n",
    "    cur.execute(f\"select * from '{x}_priceData' where date = '{d}'\")    # set conditional to not add price data if already exists for today\n",
    "    if cur.fetchone():\n",
    "        print(f\"duplicate prvented for {x}\")  # let know if duplicated data was prevented\n",
    "    else:\n",
    "        for row in mkt_df.itertuples():           # else not exist write new data to db \n",
    "            insert_sql = f''' INSERT INTO '{x}_priceData' ('Unnamed: 0', Name, 'Market Price', date) VALUES ('{row[1]}',\"{row[2]}\",'{row[3]}','{row[4]}')'''\n",
    "            cur.execute(insert_sql)\n",
    "        print(f'{x} has been update')  # let know data was updated \n",
    "    #con.commit()            # save updates commit for testing\n",
    "    con.close()"
   ]
  }
 ],
 "metadata": {
  "kernelspec": {
   "display_name": "Python 3 (ipykernel)",
   "language": "python",
   "name": "python3"
  },
  "language_info": {
   "codemirror_mode": {
    "name": "ipython",
    "version": 3
   },
   "file_extension": ".py",
   "mimetype": "text/x-python",
   "name": "python",
   "nbconvert_exporter": "python",
   "pygments_lexer": "ipython3",
   "version": "3.10.9"
  }
 },
 "nbformat": 4,
 "nbformat_minor": 5
}
