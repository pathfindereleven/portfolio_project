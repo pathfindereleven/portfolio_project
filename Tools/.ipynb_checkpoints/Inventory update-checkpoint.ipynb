{
 "cells": [
  {
   "cell_type": "code",
   "execution_count": 1,
   "id": "0533d660",
   "metadata": {},
   "outputs": [],
   "source": [
    "import pandas as pd\n",
    "from splinter import Browser\n",
    "from bs4 import BeautifulSoup\n",
    "import time\n",
    "from selenium import webdriver\n",
    "from pathlib import Path\n",
    "from datetime import datetime\n",
    "import sqlite3"
   ]
  },
  {
   "cell_type": "code",
   "execution_count": 2,
   "id": "e1ee6166",
   "metadata": {},
   "outputs": [],
   "source": [
    "# make query dictionary of the table name and matching querry string\n",
    "query_dic = {'MID':'innistrad-midnight-hunt','10E':'10th-edition', 'BRO':'the-brothers-war', 'DGM':'dragons-maze',\n",
    " 'DMU':'dominaria-united', 'ELD':'throne-of-eldraine', 'GTC':'gatecrash', 'MAT':'march-of-the-machine-the-aftermath', \n",
    "   'MOM':'march-of-the-machine', 'NEO':'kamigawa-neon-dynasty', 'ONE':'phyrexia-all-will-be-one', 'RTR':'return-to-ravnica',\n",
    "  'SNC':'streets-of-new-capenna', 'VOW':'innistrad-crimson-vow', 'WOE': 'wilds-of-eldraine'}\n",
    "loop_values = list(query_dic.values())  #seperate key and value\n",
    "loop_key = list(query_dic.keys())   \n",
    "#print(loop_values)                              ### print lists if needed\n",
    "#print(loop_key)"
   ]
  },
  {
   "cell_type": "code",
   "execution_count": 3,
   "id": "e6726ea7",
   "metadata": {},
   "outputs": [],
   "source": [
    "browser = Browser('chrome', executable_path='../Resources/chromedriver.exe')      # set chromedriver path"
   ]
  },
  {
   "cell_type": "code",
   "execution_count": 4,
   "id": "eb932b0c",
   "metadata": {},
   "outputs": [
    {
     "name": "stdout",
     "output_type": "stream",
     "text": [
      "MID updated sucesfully\n",
      "10E updated sucesfully\n",
      "BRO updated sucesfully\n"
     ]
    },
    {
     "ename": "KeyboardInterrupt",
     "evalue": "",
     "output_type": "error",
     "traceback": [
      "\u001b[1;31m---------------------------------------------------------------------------\u001b[0m",
      "\u001b[1;31mKeyboardInterrupt\u001b[0m                         Traceback (most recent call last)",
      "Cell \u001b[1;32mIn[4], line 12\u001b[0m\n\u001b[0;32m     10\u001b[0m \u001b[38;5;66;03m# scrape data\u001b[39;00m\n\u001b[0;32m     11\u001b[0m     names\u001b[38;5;241m=\u001b[39m []\n\u001b[1;32m---> 12\u001b[0m     title_tags \u001b[38;5;241m=\u001b[39m \u001b[43msoup\u001b[49m\u001b[38;5;241;43m.\u001b[39;49m\u001b[43mfind_all\u001b[49m\u001b[43m(\u001b[49m\u001b[38;5;124;43m'\u001b[39;49m\u001b[38;5;124;43ma\u001b[39;49m\u001b[38;5;124;43m'\u001b[39;49m\u001b[43m,\u001b[49m\u001b[43m \u001b[49m\u001b[43mclass_\u001b[49m\u001b[43m \u001b[49m\u001b[38;5;241;43m=\u001b[39;49m\u001b[43m \u001b[49m\u001b[38;5;124;43m\"\u001b[39;49m\u001b[38;5;124;43mpdp-url\u001b[39;49m\u001b[38;5;124;43m\"\u001b[39;49m\u001b[43m)\u001b[49m    \u001b[38;5;66;03m# scrape card names into list\u001b[39;00m\n\u001b[0;32m     13\u001b[0m     \u001b[38;5;28;01mfor\u001b[39;00m i \u001b[38;5;129;01min\u001b[39;00m title_tags:\n\u001b[0;32m     14\u001b[0m            names\u001b[38;5;241m.\u001b[39mappend(i\u001b[38;5;241m.\u001b[39mtext)\n",
      "File \u001b[1;32m~\\anaconda3\\lib\\site-packages\\bs4\\element.py:2030\u001b[0m, in \u001b[0;36mTag.find_all\u001b[1;34m(self, name, attrs, recursive, string, limit, **kwargs)\u001b[0m\n\u001b[0;32m   2028\u001b[0m     generator \u001b[38;5;241m=\u001b[39m \u001b[38;5;28mself\u001b[39m\u001b[38;5;241m.\u001b[39mchildren\n\u001b[0;32m   2029\u001b[0m _stacklevel \u001b[38;5;241m=\u001b[39m kwargs\u001b[38;5;241m.\u001b[39mpop(\u001b[38;5;124m'\u001b[39m\u001b[38;5;124m_stacklevel\u001b[39m\u001b[38;5;124m'\u001b[39m, \u001b[38;5;241m2\u001b[39m)\n\u001b[1;32m-> 2030\u001b[0m \u001b[38;5;28;01mreturn\u001b[39;00m \u001b[38;5;28mself\u001b[39m\u001b[38;5;241m.\u001b[39m_find_all(name, attrs, string, limit, generator,\n\u001b[0;32m   2031\u001b[0m                       _stacklevel\u001b[38;5;241m=\u001b[39m_stacklevel\u001b[38;5;241m+\u001b[39m\u001b[38;5;241m1\u001b[39m, \u001b[38;5;241m*\u001b[39m\u001b[38;5;241m*\u001b[39mkwargs)\n",
      "File \u001b[1;32m~\\anaconda3\\lib\\site-packages\\bs4\\element.py:841\u001b[0m, in \u001b[0;36mPageElement._find_all\u001b[1;34m(self, name, attrs, string, limit, generator, **kwargs)\u001b[0m\n\u001b[0;32m    839\u001b[0m     \u001b[38;5;28;01mbreak\u001b[39;00m\n\u001b[0;32m    840\u001b[0m \u001b[38;5;28;01mif\u001b[39;00m i:\n\u001b[1;32m--> 841\u001b[0m     found \u001b[38;5;241m=\u001b[39m \u001b[43mstrainer\u001b[49m\u001b[38;5;241;43m.\u001b[39;49m\u001b[43msearch\u001b[49m\u001b[43m(\u001b[49m\u001b[43mi\u001b[49m\u001b[43m)\u001b[49m\n\u001b[0;32m    842\u001b[0m     \u001b[38;5;28;01mif\u001b[39;00m found:\n\u001b[0;32m    843\u001b[0m         results\u001b[38;5;241m.\u001b[39mappend(found)\n",
      "\u001b[1;31mKeyboardInterrupt\u001b[0m: "
     ]
    }
   ],
   "source": [
    "for i in range(len(loop_key)):  # start loop in range of dictionary\n",
    "    dbtable = loop_key[i]       # table to update\n",
    "    url_string =  loop_values[i]   # url string related to update\n",
    "    url =f\"https://shop.tcgplayer.com/price-guide/magic/{url_string}\"\n",
    "    browser.visit(url)         \n",
    "    browser.driver.maximize_window()\n",
    "    time.sleep(6)                              # visit url and make soup\n",
    "    req = browser.html\n",
    "    soup = BeautifulSoup(req, \"html\")\n",
    "# scrape data\n",
    "    names= []\n",
    "    title_tags = soup.find_all('a', class_ = \"pdp-url\")    # scrape card names into list\n",
    "    for i in title_tags:\n",
    "           names.append(i.text)\n",
    "    prices =[]\n",
    "    price = soup.find_all('td', class_ = \"tcg-table-body__cell tcg-table-body__cell--align-right\")  \n",
    "    count = -1\n",
    "    for i in price:                   # scrape card price to list\n",
    "        count = count +1             # account for every other value in html\n",
    "        if  count%2 > 0 :\n",
    "            prices.append(i.text)   \n",
    "    price_list= zip(names, prices)\n",
    "    mkt_df = pd.DataFrame(price_list,columns = ['Name', 'Market Price'])  # create dataframe\n",
    "    mkt_df['date']= datetime.today().strftime('%Y-%m-%d')\n",
    "    price =  Path(\"../Resources/inventory.db\")          # build db conection\n",
    "    con = sqlite3.connect(price)\n",
    "    cur = con.cursor()\n",
    "    db_df = pd.read_sql_query(f\"SELECT * FROM '{dbtable}'\", con)  # open inventory db to df to match names\n",
    "    count = 0\n",
    "    while count < len(db_df):                    # while loop to take name from scraped data match to db table\n",
    "        try:                                     #     if match update db if not continue loop. count put in to ensure \n",
    "            for i in range(count , len(db_df)):  #     loop continues if no match\n",
    "                search = db_df.loc[i,['name']]   #\n",
    "                search = search['name']\n",
    "                search_df = mkt_df.loc[mkt_df['Name'] == search]\n",
    "                           # break if no match\n",
    "                search_df.reset_index(drop=True, inplace=True)\n",
    "                search_result = search_df[\"Market Price\"][0]\n",
    "                db_df.loc[i,['MktPrice']] = search_result\n",
    "                count = count + 1\n",
    "        except: # if no match \n",
    "                db_df.loc[i,['MktPrice']] = \"0\"\n",
    "                count = count + 1\n",
    "\n",
    "    for i in range(len(mkt_df)):\n",
    "        search = mkt_df.loc[i,['Name']]   # write loop df to database table and save\n",
    "        search = search['Name']\n",
    "        x = mkt_df.loc[i,['Market Price']]  \n",
    "        x = x['Market Price']\n",
    "        insert_sql = f'''UPDATE  '{dbtable}'  set MktPrice =\"{x}\" where \"name\" = \"{search}\"'''\n",
    "        cur.execute(insert_sql)\n",
    "        con.commit()                        # commit for testing\n",
    "    print(f'{dbtable} updated sucesfully')  # print if updated "
   ]
  },
  {
   "cell_type": "code",
   "execution_count": null,
   "id": "f360bede",
   "metadata": {},
   "outputs": [],
   "source": []
  }
 ],
 "metadata": {
  "kernelspec": {
   "display_name": "Python 3 (ipykernel)",
   "language": "python",
   "name": "python3"
  },
  "language_info": {
   "codemirror_mode": {
    "name": "ipython",
    "version": 3
   },
   "file_extension": ".py",
   "mimetype": "text/x-python",
   "name": "python",
   "nbconvert_exporter": "python",
   "pygments_lexer": "ipython3",
   "version": "3.10.9"
  }
 },
 "nbformat": 4,
 "nbformat_minor": 5
}
