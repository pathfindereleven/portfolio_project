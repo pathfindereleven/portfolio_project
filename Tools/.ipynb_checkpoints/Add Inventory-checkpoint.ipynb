{
 "cells": [
  {
   "cell_type": "code",
   "execution_count": 1,
   "id": "96c64e0b",
   "metadata": {},
   "outputs": [],
   "source": [
    "#imports\n",
    "import pandas as pd\n",
    "from pathlib import Path\n",
    "import sqlite3"
   ]
  },
  {
   "cell_type": "code",
   "execution_count": 2,
   "id": "537b36d9",
   "metadata": {},
   "outputs": [],
   "source": [
    "#build db conection\n",
    "price =  Path(\"..\\Resources\\inventory.db\")\n",
    "con = sqlite3.connect(price)\n",
    "cur = con.cursor()"
   ]
  },
  {
   "cell_type": "code",
   "execution_count": 3,
   "id": "0432b68a",
   "metadata": {},
   "outputs": [
    {
     "name": "stdout",
     "output_type": "stream",
     "text": [
      "10E\n",
      "BRO\n",
      "DGM\n",
      "DMU\n",
      "ELD\n",
      "GTC\n",
      "MAT\n",
      "MID\n",
      "MOM\n",
      "NEO\n",
      "ONE\n",
      "RTR\n",
      "SNC\n",
      "VOW\n",
      "WOE\n"
     ]
    }
   ],
   "source": [
    "# build query string with impots to add inventory\n",
    "q = cur.execute(\"SELECT name FROM sqlite_master WHERE type='table';\")\n",
    "for name in q.fetchall():\n",
    "    print(name[0])"
   ]
  },
  {
   "cell_type": "code",
   "execution_count": 4,
   "id": "33ca7bb2",
   "metadata": {},
   "outputs": [
    {
     "name": "stdout",
     "output_type": "stream",
     "text": [
      "what set?VOW\n"
     ]
    }
   ],
   "source": [
    "# what set  enter 3 digit set code\n",
    "ans1 = input('what set?')"
   ]
  },
  {
   "cell_type": "code",
   "execution_count": 5,
   "id": "92ccdcf1",
   "metadata": {},
   "outputs": [
    {
     "name": "stdout",
     "output_type": "stream",
     "text": [
      "what is card name \"LIKE\"olivia\n"
     ]
    },
    {
     "data": {
      "text/html": [
       "<div>\n",
       "<style scoped>\n",
       "    .dataframe tbody tr th:only-of-type {\n",
       "        vertical-align: middle;\n",
       "    }\n",
       "\n",
       "    .dataframe tbody tr th {\n",
       "        vertical-align: top;\n",
       "    }\n",
       "\n",
       "    .dataframe thead th {\n",
       "        text-align: right;\n",
       "    }\n",
       "</style>\n",
       "<table border=\"1\" class=\"dataframe\">\n",
       "  <thead>\n",
       "    <tr style=\"text-align: right;\">\n",
       "      <th></th>\n",
       "      <th>setCode</th>\n",
       "      <th>name</th>\n",
       "      <th>rarity</th>\n",
       "      <th>manaCost</th>\n",
       "      <th>colorIdentity</th>\n",
       "      <th>types</th>\n",
       "      <th>subtypes</th>\n",
       "      <th>power</th>\n",
       "      <th>toughness</th>\n",
       "      <th>quantity</th>\n",
       "      <th>nm</th>\n",
       "      <th>lp</th>\n",
       "      <th>p</th>\n",
       "      <th>foil</th>\n",
       "      <th>text</th>\n",
       "      <th>MktPrice</th>\n",
       "    </tr>\n",
       "  </thead>\n",
       "  <tbody>\n",
       "    <tr>\n",
       "      <th>0</th>\n",
       "      <td>VOW</td>\n",
       "      <td>Olivia's Attendants</td>\n",
       "      <td>rare</td>\n",
       "      <td>{4}{R}{R}</td>\n",
       "      <td>R</td>\n",
       "      <td>Creature</td>\n",
       "      <td>Vampire</td>\n",
       "      <td>6</td>\n",
       "      <td>6</td>\n",
       "      <td>0</td>\n",
       "      <td>0</td>\n",
       "      <td>0</td>\n",
       "      <td>0</td>\n",
       "      <td>0</td>\n",
       "      <td>Menace\\nWhenever Olivia's Attendants deals dam...</td>\n",
       "      <td>$0.19</td>\n",
       "    </tr>\n",
       "    <tr>\n",
       "      <th>1</th>\n",
       "      <td>VOW</td>\n",
       "      <td>Olivia, Crimson Bride</td>\n",
       "      <td>mythic</td>\n",
       "      <td>{4}{B}{R}</td>\n",
       "      <td>B, R</td>\n",
       "      <td>Creature</td>\n",
       "      <td>Vampire, Noble</td>\n",
       "      <td>3</td>\n",
       "      <td>4</td>\n",
       "      <td>0</td>\n",
       "      <td>0</td>\n",
       "      <td>0</td>\n",
       "      <td>0</td>\n",
       "      <td>0</td>\n",
       "      <td>Flying, haste\\nWhenever Olivia, Crimson Bride ...</td>\n",
       "      <td>$4.53</td>\n",
       "    </tr>\n",
       "  </tbody>\n",
       "</table>\n",
       "</div>"
      ],
      "text/plain": [
       "  setCode                   name  rarity   manaCost colorIdentity     types  \\\n",
       "0     VOW    Olivia's Attendants    rare  {4}{R}{R}             R  Creature   \n",
       "1     VOW  Olivia, Crimson Bride  mythic  {4}{B}{R}          B, R  Creature   \n",
       "\n",
       "         subtypes  power  toughness  quantity  nm  lp  p  foil  \\\n",
       "0         Vampire      6          6         0   0   0  0     0   \n",
       "1  Vampire, Noble      3          4         0   0   0  0     0   \n",
       "\n",
       "                                                text MktPrice  \n",
       "0  Menace\\nWhenever Olivia's Attendants deals dam...    $0.19  \n",
       "1  Flying, haste\\nWhenever Olivia, Crimson Bride ...    $4.53  "
      ]
     },
     "execution_count": 5,
     "metadata": {},
     "output_type": "execute_result"
    }
   ],
   "source": [
    "# what card\n",
    "ans2 = input('what is card name \"LIKE\"')\n",
    "name_qry = pd.read_sql_query(f\"SELECT * from {ans1} WHERE name LIKE '%{ans2}%'\", con) # sql querry with like to quickly enter card name\n",
    "name_qry"
   ]
  },
  {
   "cell_type": "code",
   "execution_count": 6,
   "id": "7f40abe7",
   "metadata": {},
   "outputs": [
    {
     "name": "stdout",
     "output_type": "stream",
     "text": [
      "enter card index to confirm0\n",
      "Olivia's Attendants\n"
     ]
    }
   ],
   "source": [
    "# confirm card\n",
    "confirm = int(input('enter card index to confirm'))\n",
    "cardname = name_qry.iloc[confirm, 1] # confirm card to update by selecting index\n",
    "print(cardname)"
   ]
  },
  {
   "cell_type": "code",
   "execution_count": 7,
   "id": "dff7f381",
   "metadata": {},
   "outputs": [
    {
     "name": "stdout",
     "output_type": "stream",
     "text": [
      "enter condition; nm , lp, p, foilfoil\n"
     ]
    }
   ],
   "source": [
    "# condition\n",
    "condition = input( 'enter condition; nm , lp, p, foil' ) # enter cards condition to be saved to db near mint, lightly played, played, foil version"
   ]
  },
  {
   "cell_type": "code",
   "execution_count": 8,
   "id": "6e701e83",
   "metadata": {},
   "outputs": [
    {
     "ename": "KeyboardInterrupt",
     "evalue": "Interrupted by user",
     "output_type": "error",
     "traceback": [
      "\u001b[1;31m---------------------------------------------------------------------------\u001b[0m",
      "\u001b[1;31mKeyboardInterrupt\u001b[0m                         Traceback (most recent call last)",
      "Cell \u001b[1;32mIn[8], line 2\u001b[0m\n\u001b[0;32m      1\u001b[0m \u001b[38;5;66;03m# quantity\u001b[39;00m\n\u001b[1;32m----> 2\u001b[0m quantity \u001b[38;5;241m=\u001b[39m \u001b[38;5;28;43minput\u001b[39;49m\u001b[43m(\u001b[49m\u001b[38;5;124;43m\"\u001b[39;49m\u001b[38;5;124;43menter quantity to add to db\u001b[39;49m\u001b[38;5;124;43m\"\u001b[39;49m\u001b[43m)\u001b[49m\n",
      "File \u001b[1;32m~\\anaconda3\\lib\\site-packages\\ipykernel\\kernelbase.py:1175\u001b[0m, in \u001b[0;36mKernel.raw_input\u001b[1;34m(self, prompt)\u001b[0m\n\u001b[0;32m   1171\u001b[0m \u001b[38;5;28;01mif\u001b[39;00m \u001b[38;5;129;01mnot\u001b[39;00m \u001b[38;5;28mself\u001b[39m\u001b[38;5;241m.\u001b[39m_allow_stdin:\n\u001b[0;32m   1172\u001b[0m     \u001b[38;5;28;01mraise\u001b[39;00m StdinNotImplementedError(\n\u001b[0;32m   1173\u001b[0m         \u001b[38;5;124m\"\u001b[39m\u001b[38;5;124mraw_input was called, but this frontend does not support input requests.\u001b[39m\u001b[38;5;124m\"\u001b[39m\n\u001b[0;32m   1174\u001b[0m     )\n\u001b[1;32m-> 1175\u001b[0m \u001b[38;5;28;01mreturn\u001b[39;00m \u001b[38;5;28;43mself\u001b[39;49m\u001b[38;5;241;43m.\u001b[39;49m\u001b[43m_input_request\u001b[49m\u001b[43m(\u001b[49m\n\u001b[0;32m   1176\u001b[0m \u001b[43m    \u001b[49m\u001b[38;5;28;43mstr\u001b[39;49m\u001b[43m(\u001b[49m\u001b[43mprompt\u001b[49m\u001b[43m)\u001b[49m\u001b[43m,\u001b[49m\n\u001b[0;32m   1177\u001b[0m \u001b[43m    \u001b[49m\u001b[38;5;28;43mself\u001b[39;49m\u001b[38;5;241;43m.\u001b[39;49m\u001b[43m_parent_ident\u001b[49m\u001b[43m[\u001b[49m\u001b[38;5;124;43m\"\u001b[39;49m\u001b[38;5;124;43mshell\u001b[39;49m\u001b[38;5;124;43m\"\u001b[39;49m\u001b[43m]\u001b[49m\u001b[43m,\u001b[49m\n\u001b[0;32m   1178\u001b[0m \u001b[43m    \u001b[49m\u001b[38;5;28;43mself\u001b[39;49m\u001b[38;5;241;43m.\u001b[39;49m\u001b[43mget_parent\u001b[49m\u001b[43m(\u001b[49m\u001b[38;5;124;43m\"\u001b[39;49m\u001b[38;5;124;43mshell\u001b[39;49m\u001b[38;5;124;43m\"\u001b[39;49m\u001b[43m)\u001b[49m\u001b[43m,\u001b[49m\n\u001b[0;32m   1179\u001b[0m \u001b[43m    \u001b[49m\u001b[43mpassword\u001b[49m\u001b[38;5;241;43m=\u001b[39;49m\u001b[38;5;28;43;01mFalse\u001b[39;49;00m\u001b[43m,\u001b[49m\n\u001b[0;32m   1180\u001b[0m \u001b[43m\u001b[49m\u001b[43m)\u001b[49m\n",
      "File \u001b[1;32m~\\anaconda3\\lib\\site-packages\\ipykernel\\kernelbase.py:1217\u001b[0m, in \u001b[0;36mKernel._input_request\u001b[1;34m(self, prompt, ident, parent, password)\u001b[0m\n\u001b[0;32m   1214\u001b[0m             \u001b[38;5;28;01mbreak\u001b[39;00m\n\u001b[0;32m   1215\u001b[0m \u001b[38;5;28;01mexcept\u001b[39;00m \u001b[38;5;167;01mKeyboardInterrupt\u001b[39;00m:\n\u001b[0;32m   1216\u001b[0m     \u001b[38;5;66;03m# re-raise KeyboardInterrupt, to truncate traceback\u001b[39;00m\n\u001b[1;32m-> 1217\u001b[0m     \u001b[38;5;28;01mraise\u001b[39;00m \u001b[38;5;167;01mKeyboardInterrupt\u001b[39;00m(\u001b[38;5;124m\"\u001b[39m\u001b[38;5;124mInterrupted by user\u001b[39m\u001b[38;5;124m\"\u001b[39m) \u001b[38;5;28;01mfrom\u001b[39;00m \u001b[38;5;28;01mNone\u001b[39;00m\n\u001b[0;32m   1218\u001b[0m \u001b[38;5;28;01mexcept\u001b[39;00m \u001b[38;5;167;01mException\u001b[39;00m:\n\u001b[0;32m   1219\u001b[0m     \u001b[38;5;28mself\u001b[39m\u001b[38;5;241m.\u001b[39mlog\u001b[38;5;241m.\u001b[39mwarning(\u001b[38;5;124m\"\u001b[39m\u001b[38;5;124mInvalid Message:\u001b[39m\u001b[38;5;124m\"\u001b[39m, exc_info\u001b[38;5;241m=\u001b[39m\u001b[38;5;28;01mTrue\u001b[39;00m)\n",
      "\u001b[1;31mKeyboardInterrupt\u001b[0m: Interrupted by user"
     ]
    }
   ],
   "source": [
    "# quantity\n",
    "quantity = input(\"enter quantity to add to db\")   # select number of cards to add to db"
   ]
  },
  {
   "cell_type": "code",
   "execution_count": null,
   "id": "ad3ef97a",
   "metadata": {},
   "outputs": [],
   "source": [
    "# exicute sql querry from inputs\n",
    "q = cur.execute(f'UPDATE {ans1} set {condition} = {condition} + {quantity} Where name = \"{cardname}\"') # update db card condition count\n",
    "v = cur.execute(f'UPDATE {ans1} set quantity = quantity + {quantity} Where name = \"{cardname}\"')       # update db for card quantity"
   ]
  },
  {
   "cell_type": "code",
   "execution_count": null,
   "id": "4a10068d",
   "metadata": {},
   "outputs": [],
   "source": [
    "#con.commit()           # save work / commit line for testing\n",
    "con.close()"
   ]
  },
  {
   "cell_type": "code",
   "execution_count": null,
   "id": "71fa8af9",
   "metadata": {},
   "outputs": [],
   "source": []
  }
 ],
 "metadata": {
  "kernelspec": {
   "display_name": "Python 3 (ipykernel)",
   "language": "python",
   "name": "python3"
  },
  "language_info": {
   "codemirror_mode": {
    "name": "ipython",
    "version": 3
   },
   "file_extension": ".py",
   "mimetype": "text/x-python",
   "name": "python",
   "nbconvert_exporter": "python",
   "pygments_lexer": "ipython3",
   "version": "3.10.9"
  }
 },
 "nbformat": 4,
 "nbformat_minor": 5
}
