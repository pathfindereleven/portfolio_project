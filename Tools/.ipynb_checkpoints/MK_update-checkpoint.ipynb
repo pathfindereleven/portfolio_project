{
 "cells": [
  {
   "cell_type": "code",
   "execution_count": 1,
   "id": "4fe50f04",
   "metadata": {},
   "outputs": [],
   "source": [
    "import pandas as pd\n",
    "from splinter import Browser\n",
    "from bs4 import BeautifulSoup\n",
    "import time\n",
    "import requests\n",
    "import os\n",
    "import csv\n",
    "from selenium import webdriver\n",
    "from webdriver_manager.chrome import ChromeDriverManager\n",
    "from pathlib import Path"
   ]
  },
  {
   "cell_type": "code",
   "execution_count": 2,
   "id": "0ed44b64",
   "metadata": {},
   "outputs": [],
   "source": [
    "from splinter import Browser\n",
    "from selenium.webdriver.chrome.service import Service\n",
    "\n",
    "my_service = Service(executable_path=r'C:\\Users\\pc\\OneDrive\\Desktop\\TCG-scraper\\chromedriver.exe')\n",
    "browser = Browser('chrome', service=my_service)"
   ]
  },
  {
   "cell_type": "code",
   "execution_count": 3,
   "id": "15eb4a16",
   "metadata": {},
   "outputs": [],
   "source": [
    "\n",
    "sset = \"dragons_maze_csv\""
   ]
  },
  {
   "cell_type": "code",
   "execution_count": 4,
   "id": "7eace2b3",
   "metadata": {},
   "outputs": [],
   "source": [
    "# visit browser and make soup\n",
    "url =\"https://shop.tcgplayer.com/price-guide/magic/dragons-maze\"\n",
    "browser.visit(url)\n",
    "req = browser.html\n",
    "soup = BeautifulSoup(req, \"html.parser\")"
   ]
  },
  {
   "cell_type": "code",
   "execution_count": null,
   "id": "99317134",
   "metadata": {},
   "outputs": [],
   "source": [
    "# capture market price and card name columns\n",
    "title_tags = soup.find_all('div', class_ = \"productDetail\")\n",
    "price1_tags = soup.find_all('td', class_ = \"marketPrice\")"
   ]
  },
  {
   "cell_type": "code",
   "execution_count": null,
   "id": "4928f3f3",
   "metadata": {},
   "outputs": [],
   "source": [
    "# loop through data, clean, and add to new list\n",
    "\n",
    "names= []\n",
    "price_list = []\n",
    "mktprice = []\n",
    "for row in title_tags:\n",
    "    row = row.text\n",
    "    row = row.replace(\"\\n\", \"\")\n",
    "    names.append(row)\n",
    "mktprice = []\n",
    "for row in price1_tags:\n",
    "    row = row.text\n",
    "    row = row.replace(\" \", \"\")\n",
    "    row = row.replace(\"\\n\", \"\")\n",
    "    mktprice.append(row)\n",
    "\n"
   ]
  },
  {
   "cell_type": "code",
   "execution_count": null,
   "id": "f26be459",
   "metadata": {},
   "outputs": [],
   "source": [
    "# turn lists into new data frame\n",
    "price_list= zip(names, mktprice)\n",
    "mkt_df = pd.DataFrame(price_list) \n",
    "mkt_df.columns = ['Name', 'Market Price']\n",
    "mkt_df.head(3)"
   ]
  },
  {
   "cell_type": "code",
   "execution_count": null,
   "id": "64440c6c",
   "metadata": {},
   "outputs": [],
   "source": [
    "# open inventory file to update\n",
    "file_one = Path(f\"MTG_DB/{sset}.csv\")\n",
    "set_df = pd.read_csv(file_one, dtype= str)\n",
    "set_df[\"MktPrice\"] = 0\n",
    "set_df.head(1)"
   ]
  },
  {
   "cell_type": "code",
   "execution_count": null,
   "id": "6fcd76f7",
   "metadata": {},
   "outputs": [],
   "source": [
    "# Match inventory df  to scrapped data and append current Market price to inventory df\n",
    "count = 0\n",
    "while count < len(set_df): # next itteration if loop fails \n",
    "    try:\n",
    "        for i in range(count , len(set_df)):\n",
    "            search = set_df.loc[i,['card_name']]   # \n",
    "            search = search['card_name']\n",
    "            search_df = mkt_df.loc[mkt_df['Name'] == search]\n",
    "                           # break if no match\n",
    "            search_df.reset_index(drop=True, inplace=True)\n",
    "            search_result = search_df[\"Market Price\"][0]\n",
    "            set_df.loc[i,['MktPrice']] = search_result\n",
    "            count = count + 1\n",
    "    except: # if no match \n",
    "            set_df.loc[i,['MktPrice']] = \"na\"\n",
    "            count = count + 1\n",
    "    \n",
    "#"
   ]
  },
  {
   "cell_type": "code",
   "execution_count": null,
   "id": "f6cf5fca",
   "metadata": {},
   "outputs": [],
   "source": [
    "set_df.head(3)"
   ]
  },
  {
   "cell_type": "code",
   "execution_count": null,
   "id": "9cb1bb21",
   "metadata": {},
   "outputs": [],
   "source": [
    "set_df.to_csv(f\"{sset}_Mreport.csv\")"
   ]
  },
  {
   "cell_type": "code",
   "execution_count": null,
   "id": "4a98021e",
   "metadata": {},
   "outputs": [],
   "source": []
  }
 ],
 "metadata": {
  "kernelspec": {
   "display_name": "Python 3 (ipykernel)",
   "language": "python",
   "name": "python3"
  },
  "language_info": {
   "codemirror_mode": {
    "name": "ipython",
    "version": 3
   },
   "file_extension": ".py",
   "mimetype": "text/x-python",
   "name": "python",
   "nbconvert_exporter": "python",
   "pygments_lexer": "ipython3",
   "version": "3.11.3"
  }
 },
 "nbformat": 4,
 "nbformat_minor": 5
}
