{
 "cells": [
  {
   "cell_type": "code",
   "execution_count": 1,
   "id": "96c64e0b",
   "metadata": {},
   "outputs": [],
   "source": [
    "#imports\n",
    "import pandas as pd\n",
    "from splinter import Browser\n",
    "from bs4 import BeautifulSoup\n",
    "import time\n",
    "import requests\n",
    "import os\n",
    "import csv\n",
    "from selenium import webdriver\n",
    "from webdriver_manager.chrome import ChromeDriverManager\n",
    "from pathlib import Path\n",
    "from datetime import datetime\n",
    "import sqlite3"
   ]
  },
  {
   "cell_type": "code",
   "execution_count": 2,
   "id": "537b36d9",
   "metadata": {},
   "outputs": [
    {
     "name": "stdout",
     "output_type": "stream",
     "text": [
      "Table list\n"
     ]
    }
   ],
   "source": [
    "#build db conection\n",
    "print(\"Table list\")\n",
    "price =  Path(r\"C:\\Users\\pc\\OneDrive\\Desktop\\portfolio_project\\Demo_Day\\Resources\\inventory.db\")\n",
    "con = sqlite3.connect(price)\n",
    "cur = con.cursor()"
   ]
  },
  {
   "cell_type": "code",
   "execution_count": 3,
   "id": "0432b68a",
   "metadata": {},
   "outputs": [
    {
     "name": "stdout",
     "output_type": "stream",
     "text": [
      "10E\n",
      "BRO\n",
      "DGM\n",
      "DMU\n",
      "ELD\n",
      "GTC\n",
      "MAT\n",
      "MID\n",
      "MOM\n",
      "NEO\n",
      "ONE\n",
      "RTR\n",
      "SNC\n",
      "VOW\n",
      "WOE\n"
     ]
    }
   ],
   "source": [
    "# build querry string with impots to add inventory\n",
    "q = cur.execute(\"SELECT name FROM sqlite_master WHERE type='table';\")\n",
    "for name in q.fetchall():\n",
    "    print(name[0])"
   ]
  },
  {
   "cell_type": "code",
   "execution_count": 4,
   "id": "33ca7bb2",
   "metadata": {},
   "outputs": [
    {
     "name": "stdout",
     "output_type": "stream",
     "text": [
      "what set?VOW\n"
     ]
    }
   ],
   "source": [
    "# what set\n",
    "ans1 = input('what set?')"
   ]
  },
  {
   "cell_type": "code",
   "execution_count": 5,
   "id": "92ccdcf1",
   "metadata": {},
   "outputs": [
    {
     "name": "stdout",
     "output_type": "stream",
     "text": [
      "what is card name \"LIKE\"Will\n"
     ]
    },
    {
     "data": {
      "text/html": [
       "<div>\n",
       "<style scoped>\n",
       "    .dataframe tbody tr th:only-of-type {\n",
       "        vertical-align: middle;\n",
       "    }\n",
       "\n",
       "    .dataframe tbody tr th {\n",
       "        vertical-align: top;\n",
       "    }\n",
       "\n",
       "    .dataframe thead th {\n",
       "        text-align: right;\n",
       "    }\n",
       "</style>\n",
       "<table border=\"1\" class=\"dataframe\">\n",
       "  <thead>\n",
       "    <tr style=\"text-align: right;\">\n",
       "      <th></th>\n",
       "      <th>setCode</th>\n",
       "      <th>name</th>\n",
       "      <th>rarity</th>\n",
       "      <th>manaCost</th>\n",
       "      <th>colorIdentity</th>\n",
       "      <th>types</th>\n",
       "      <th>subtypes</th>\n",
       "      <th>power</th>\n",
       "      <th>toughness</th>\n",
       "      <th>quantity</th>\n",
       "      <th>nm</th>\n",
       "      <th>lp</th>\n",
       "      <th>p</th>\n",
       "      <th>foil</th>\n",
       "      <th>text</th>\n",
       "      <th>MktPrice</th>\n",
       "    </tr>\n",
       "  </thead>\n",
       "  <tbody>\n",
       "    <tr>\n",
       "      <th>0</th>\n",
       "      <td>VOW</td>\n",
       "      <td>Adamant Will</td>\n",
       "      <td>common</td>\n",
       "      <td>{1}{W}</td>\n",
       "      <td>W</td>\n",
       "      <td>Instant</td>\n",
       "      <td>0</td>\n",
       "      <td>0</td>\n",
       "      <td>0</td>\n",
       "      <td>3</td>\n",
       "      <td>0</td>\n",
       "      <td>3</td>\n",
       "      <td>0</td>\n",
       "      <td>0</td>\n",
       "      <td>Target creature gets +2/+2 and gains indestruc...</td>\n",
       "      <td>$0.02</td>\n",
       "    </tr>\n",
       "  </tbody>\n",
       "</table>\n",
       "</div>"
      ],
      "text/plain": [
       "  setCode          name  rarity manaCost colorIdentity    types subtypes  \\\n",
       "0     VOW  Adamant Will  common   {1}{W}             W  Instant        0   \n",
       "\n",
       "   power  toughness  quantity  nm  lp  p  foil  \\\n",
       "0      0          0         3   0   3  0     0   \n",
       "\n",
       "                                                text MktPrice  \n",
       "0  Target creature gets +2/+2 and gains indestruc...    $0.02  "
      ]
     },
     "execution_count": 5,
     "metadata": {},
     "output_type": "execute_result"
    }
   ],
   "source": [
    "# what card\n",
    "ans2 = input('what is card name \"LIKE\"')\n",
    "name_qry = pd.read_sql_query(f\"SELECT * from {ans1} WHERE name LIKE '%{ans2}%'\", con)\n",
    "name_qry"
   ]
  },
  {
   "cell_type": "code",
   "execution_count": 6,
   "id": "7f40abe7",
   "metadata": {},
   "outputs": [
    {
     "name": "stdout",
     "output_type": "stream",
     "text": [
      "enter card index to confirm0\n",
      "Adamant Will\n"
     ]
    }
   ],
   "source": [
    "# confirm card\n",
    "confirm = int(input('enter card index to confirm'))\n",
    "cardname = name_qry.iloc[confirm, 1] \n",
    "print(cardname)"
   ]
  },
  {
   "cell_type": "code",
   "execution_count": 8,
   "id": "dff7f381",
   "metadata": {},
   "outputs": [
    {
     "name": "stdout",
     "output_type": "stream",
     "text": [
      "enter condition; nm , lp, p, foilnm\n"
     ]
    }
   ],
   "source": [
    "# condition\n",
    "condition = input( 'enter condition; nm , lp, p, foil' )"
   ]
  },
  {
   "cell_type": "code",
   "execution_count": 9,
   "id": "6e701e83",
   "metadata": {},
   "outputs": [
    {
     "name": "stdout",
     "output_type": "stream",
     "text": [
      "enter quantity to add to db100\n"
     ]
    }
   ],
   "source": [
    "# quantity\n",
    "quantity = input(\"enter quantity to add to db\")"
   ]
  },
  {
   "cell_type": "code",
   "execution_count": 12,
   "id": "ad3ef97a",
   "metadata": {},
   "outputs": [],
   "source": [
    "# exicute sql querry from inputs\n",
    "q = cur.execute(f'UPDATE {ans1} set {condition} = {condition} + {quantity} Where name = \"{cardname}\"')\n",
    "v = cur.execute(f'UPDATE {ans1} set quantity = quantity + {quantity} Where name = \"{cardname}\"')"
   ]
  },
  {
   "cell_type": "code",
   "execution_count": 13,
   "id": "4a10068d",
   "metadata": {},
   "outputs": [],
   "source": [
    "# commit and close conection\n",
    "con.commit()\n",
    "con.close()"
   ]
  },
  {
   "cell_type": "code",
   "execution_count": null,
   "id": "71fa8af9",
   "metadata": {},
   "outputs": [],
   "source": []
  }
 ],
 "metadata": {
  "kernelspec": {
   "display_name": "Python 3 (ipykernel)",
   "language": "python",
   "name": "python3"
  },
  "language_info": {
   "codemirror_mode": {
    "name": "ipython",
    "version": 3
   },
   "file_extension": ".py",
   "mimetype": "text/x-python",
   "name": "python",
   "nbconvert_exporter": "python",
   "pygments_lexer": "ipython3",
   "version": "3.11.3"
  }
 },
 "nbformat": 4,
 "nbformat_minor": 5
}
