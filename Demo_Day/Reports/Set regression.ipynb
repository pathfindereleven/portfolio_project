{
 "cells": [
  {
   "cell_type": "code",
   "execution_count": null,
   "id": "9595a840",
   "metadata": {},
   "outputs": [],
   "source": [
    "#imports"
   ]
  },
  {
   "cell_type": "code",
   "execution_count": null,
   "id": "5ff87491",
   "metadata": {},
   "outputs": [],
   "source": [
    "# build conection to price db"
   ]
  },
  {
   "cell_type": "code",
   "execution_count": null,
   "id": "e5c948aa",
   "metadata": {},
   "outputs": [],
   "source": [
    "# import set data as pd df"
   ]
  },
  {
   "cell_type": "code",
   "execution_count": null,
   "id": "bedea9da",
   "metadata": {},
   "outputs": [],
   "source": [
    "# reformat data as combined card price, on date"
   ]
  },
  {
   "cell_type": "code",
   "execution_count": null,
   "id": "a87cebbf",
   "metadata": {},
   "outputs": [],
   "source": [
    "# calculate regresion"
   ]
  },
  {
   "cell_type": "code",
   "execution_count": null,
   "id": "0618d5b9",
   "metadata": {},
   "outputs": [],
   "source": [
    "# show/ save regresion value  "
   ]
  },
  {
   "cell_type": "code",
   "execution_count": null,
   "id": "9c33a868",
   "metadata": {},
   "outputs": [],
   "source": [
    "# save to a regresion table"
   ]
  }
 ],
 "metadata": {
  "kernelspec": {
   "display_name": "Python 3 (ipykernel)",
   "language": "python",
   "name": "python3"
  },
  "language_info": {
   "codemirror_mode": {
    "name": "ipython",
    "version": 3
   },
   "file_extension": ".py",
   "mimetype": "text/x-python",
   "name": "python",
   "nbconvert_exporter": "python",
   "pygments_lexer": "ipython3",
   "version": "3.11.3"
  }
 },
 "nbformat": 4,
 "nbformat_minor": 5
}
