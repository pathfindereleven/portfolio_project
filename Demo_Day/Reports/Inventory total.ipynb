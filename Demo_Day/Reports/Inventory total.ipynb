{
 "cells": [
  {
   "cell_type": "code",
   "execution_count": null,
   "id": "c3433642",
   "metadata": {},
   "outputs": [],
   "source": [
    "#imports"
   ]
  },
  {
   "cell_type": "code",
   "execution_count": null,
   "id": "3bdc34a0",
   "metadata": {},
   "outputs": [],
   "source": [
    "# build db conection"
   ]
  },
  {
   "cell_type": "code",
   "execution_count": null,
   "id": "5d4e68bc",
   "metadata": {},
   "outputs": [],
   "source": [
    "# load table as pandas pd"
   ]
  },
  {
   "cell_type": "code",
   "execution_count": null,
   "id": "cc3e8f16",
   "metadata": {},
   "outputs": [],
   "source": [
    "# calculate total inventory price"
   ]
  },
  {
   "cell_type": "code",
   "execution_count": null,
   "id": "26a9fced",
   "metadata": {},
   "outputs": [],
   "source": [
    "# show result"
   ]
  },
  {
   "cell_type": "code",
   "execution_count": null,
   "id": "953072e0",
   "metadata": {},
   "outputs": [],
   "source": [
    "# save result to price db with date"
   ]
  }
 ],
 "metadata": {
  "kernelspec": {
   "display_name": "Python 3 (ipykernel)",
   "language": "python",
   "name": "python3"
  },
  "language_info": {
   "codemirror_mode": {
    "name": "ipython",
    "version": 3
   },
   "file_extension": ".py",
   "mimetype": "text/x-python",
   "name": "python",
   "nbconvert_exporter": "python",
   "pygments_lexer": "ipython3",
   "version": "3.11.3"
  }
 },
 "nbformat": 4,
 "nbformat_minor": 5
}
