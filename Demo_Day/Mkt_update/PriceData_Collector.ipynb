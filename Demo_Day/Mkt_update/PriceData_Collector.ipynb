{
 "cells": [
  {
   "cell_type": "code",
   "execution_count": 1,
   "id": "4fe50f04",
   "metadata": {},
   "outputs": [],
   "source": [
    "import pandas as pd\n",
    "from splinter import Browser\n",
    "from bs4 import BeautifulSoup\n",
    "import time\n",
    "import requests\n",
    "import os\n",
    "import csv\n",
    "from selenium import webdriver\n",
    "from webdriver_manager.chrome import ChromeDriverManager\n",
    "from pathlib import Path\n",
    "from datetime import datetime\n",
    "import sqlite3"
   ]
  },
  {
   "cell_type": "code",
   "execution_count": 2,
   "id": "f6bbd015",
   "metadata": {},
   "outputs": [],
   "source": [
    "from splinter import Browser\n",
    "from selenium.webdriver.chrome.service import Service\n",
    "\n",
    "my_service = Service(executable_path=r'C:\\Users\\pc\\OneDrive\\Desktop\\TCG-scraper\\chromedriver.exe')\n",
    "browser = Browser('chrome', service=my_service)"
   ]
  },
  {
   "cell_type": "code",
   "execution_count": 3,
   "id": "15eb4a16",
   "metadata": {},
   "outputs": [],
   "source": [
    "\n",
    "sset = [\"innistrad-crimson-vow\", \"ixalan\", \"kaldheim\", \"innistrad-midnight-hunt\", \"war-of-the-spark\", \"kamigawa-neon-dynasty\"]\n",
    "#sset = ['ixalan']"
   ]
  },
  {
   "cell_type": "code",
   "execution_count": 4,
   "id": "72925b2f",
   "metadata": {},
   "outputs": [
    {
     "name": "stdout",
     "output_type": "stream",
     "text": [
      "innistrad-crimson-vow has been update\n",
      "duplicate prvented for ixalan\n",
      "kaldheim has been update\n",
      "duplicate prvented for innistrad-midnight-hunt\n",
      "war-of-the-spark has been update\n",
      "duplicate prvented for kamigawa-neon-dynasty\n"
     ]
    }
   ],
   "source": [
    "for x in sset:\n",
    "    url =f\"https://shop.tcgplayer.com/price-guide/magic/{x}\"\n",
    "    browser.visit(url)\n",
    "    browser.driver.maximize_window()\n",
    "    time.sleep(7)\n",
    "    req = browser.html\n",
    "    soup = BeautifulSoup(req, \"html\")\n",
    "    names= []\n",
    "    title_tags = soup.find_all('a', class_ = \"pdp-url\")\n",
    "    for i in title_tags:\n",
    "       names.append(i.text)\n",
    "    prices =[]\n",
    "    price = soup.find_all('td', class_ = \"tcg-table-body__cell tcg-table-body__cell--align-right\")\n",
    "    count = -1\n",
    "    for i in price:\n",
    "        count = count +1\n",
    "        if  count%2 > 0 :\n",
    "            prices.append(i.text)\n",
    "    price_list= zip(names, prices)\n",
    "    mkt_df = pd.DataFrame(price_list,) \n",
    "    mkt_df = mkt_df.reset_index(drop=True)\n",
    "    mkt_df.columns = ['Name', 'Market Price']\n",
    "    mkt_df['date']= datetime.today().strftime('%Y-%m-%d')\n",
    "    \n",
    "    mkt_df['Unnamed: 0']= 2\n",
    "    mkt_df = mkt_df[['Unnamed: 0', 'Name', 'Market Price', 'date']]\n",
    "    price =  Path(\"../Resources/price.db\")\n",
    "    con = sqlite3.connect(price)\n",
    "    cur = con.cursor()\n",
    "    d = datetime.today().strftime('%Y-%m-%d')\n",
    "    cur.execute(f\"select * from '{x}_priceData' where date = '{d}'\")\n",
    "    if cur.fetchone():\n",
    "        print(f\"duplicate prvented for {x}\")\n",
    "    else:\n",
    "        for row in mkt_df.itertuples():\n",
    "            insert_sql = f''' INSERT INTO '{x}_priceData' ('Unnamed: 0', Name, 'Market Price', date) VALUES ('{row[1]}',\"{row[2]}\",'{row[3]}','{row[4]}')'''\n",
    "            cur.execute(insert_sql)\n",
    "        print(f'{x} has been update')\n",
    "    #con.commit()\n",
    "    con.close()"
   ]
  },
  {
   "cell_type": "code",
   "execution_count": 5,
   "id": "4a98021e",
   "metadata": {},
   "outputs": [],
   "source": [
    "mkt_df.to_csv(f'{x}_priceData.csv')"
   ]
  },
  {
   "cell_type": "code",
   "execution_count": null,
   "id": "303f3eb1",
   "metadata": {},
   "outputs": [],
   "source": []
  }
 ],
 "metadata": {
  "kernelspec": {
   "display_name": "Python 3 (ipykernel)",
   "language": "python",
   "name": "python3"
  },
  "language_info": {
   "codemirror_mode": {
    "name": "ipython",
    "version": 3
   },
   "file_extension": ".py",
   "mimetype": "text/x-python",
   "name": "python",
   "nbconvert_exporter": "python",
   "pygments_lexer": "ipython3",
   "version": "3.11.3"
  }
 },
 "nbformat": 4,
 "nbformat_minor": 5
}
