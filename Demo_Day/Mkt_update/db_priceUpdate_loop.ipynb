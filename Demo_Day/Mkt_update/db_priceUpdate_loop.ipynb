{
 "cells": [
  {
   "cell_type": "code",
   "execution_count": 1,
   "id": "0533d660",
   "metadata": {},
   "outputs": [],
   "source": [
    "import pandas as pd\n",
    "from splinter import Browser\n",
    "from bs4 import BeautifulSoup\n",
    "import time\n",
    "import requests\n",
    "import os\n",
    "import csv\n",
    "from selenium import webdriver\n",
    "from webdriver_manager.chrome import ChromeDriverManager\n",
    "from pathlib import Path\n",
    "from datetime import datetime\n",
    "import sqlite3"
   ]
  },
  {
   "cell_type": "code",
   "execution_count": 2,
   "id": "e1ee6166",
   "metadata": {},
   "outputs": [],
   "source": [
    "# make querry dictionary\n",
    "querry_dic = {'MID':'innistrad-midnight-hunt','10E':'10th-edition', 'BRO':'the-brothers-war', 'DGM':'dragons-maze',\n",
    " 'DMU':'dominaria-united', 'ELD':'throne-of-eldraine', 'GTC':'gatecrash', 'MAT':'march-of-the-machine-the-aftermath', \n",
    "   'MOM':'march-of-the-machine', 'NEO':'kamigawa-neon-dynasty', 'ONE':'phyrexia-all-will-be-one', 'RTR':'return-to-ravnica',\n",
    "  'SNC':'streets-of-new-capenna', 'VOW':'innistrad-crimson-vow', 'WOE': 'wilds-of-eldraine'}"
   ]
  },
  {
   "cell_type": "code",
   "execution_count": 7,
   "id": "0cfa6c15",
   "metadata": {},
   "outputs": [
    {
     "name": "stdout",
     "output_type": "stream",
     "text": [
      "['MID', '10E', 'BRO', 'DGM', 'DMU', 'ELD', 'GTC', 'MAT', 'MOM', 'NEO', 'ONE', 'RTR', 'SNC', 'VOW', 'WOE']\n"
     ]
    }
   ],
   "source": [
    "loop_values = list(querry_dic.values())\n",
    "loop_key = list(querry_dic.keys())\n",
    "print(loop_key)"
   ]
  },
  {
   "cell_type": "code",
   "execution_count": 4,
   "id": "437358ad",
   "metadata": {},
   "outputs": [],
   "source": [
    "from splinter import Browser\n",
    "from selenium.webdriver.chrome.service import Service\n",
    "\n",
    "my_service = Service(executable_path=r'C:\\Users\\pc\\OneDrive\\Desktop\\TCG-scraper\\chromedriver.exe')\n",
    "browser = Browser('chrome', service=my_service)"
   ]
  },
  {
   "cell_type": "code",
   "execution_count": 5,
   "id": "eb932b0c",
   "metadata": {},
   "outputs": [
    {
     "name": "stdout",
     "output_type": "stream",
     "text": [
      "MID updated sucesfully\n",
      "10E updated sucesfully\n",
      "BRO updated sucesfully\n",
      "DGM updated sucesfully\n",
      "DMU updated sucesfully\n",
      "ELD updated sucesfully\n",
      "GTC updated sucesfully\n",
      "MAT updated sucesfully\n",
      "MOM updated sucesfully\n",
      "NEO updated sucesfully\n",
      "ONE updated sucesfully\n",
      "RTR updated sucesfully\n",
      "SNC updated sucesfully\n",
      "VOW updated sucesfully\n",
      "WOE updated sucesfully\n"
     ]
    }
   ],
   "source": [
    "loop_key = list(querry_dic.keys())\n",
    "loop_values = list(querry_dic.values())\n",
    "for i in range(len(loop_key)):\n",
    "#assign url string and set table\n",
    "    dbtable = loop_key[i]\n",
    "    url_string =  loop_values[i]\n",
    "# visit website and make soup\n",
    "    url =f\"https://shop.tcgplayer.com/price-guide/magic/{url_string}\"\n",
    "    browser.visit(url)\n",
    "    browser.driver.maximize_window()\n",
    "    time.sleep(6)\n",
    "    req = browser.html\n",
    "    soup = BeautifulSoup(req, \"html\")\n",
    "# scrape data\n",
    "    names= []\n",
    "    title_tags = soup.find_all('a', class_ = \"pdp-url\")\n",
    "    for i in title_tags:\n",
    "           names.append(i.text)\n",
    "    prices =[]\n",
    "    price = soup.find_all('td', class_ = \"tcg-table-body__cell tcg-table-body__cell--align-right\")\n",
    "    count = -1\n",
    "    for i in price:\n",
    "        count = count +1\n",
    "        if  count%2 > 0 :\n",
    "            prices.append(i.text)\n",
    "# make df with scraped data\n",
    "    \n",
    "    price_list= zip(names, prices)\n",
    "    mkt_df = pd.DataFrame(price_list,columns = ['Name', 'Market Price']) \n",
    "    mkt_df['date']= datetime.today().strftime('%Y-%m-%d')\n",
    "# build db conection\n",
    "    price =  Path(\"../Resources/inventory.db\")\n",
    "    con = sqlite3.connect(price)\n",
    "    cur = con.cursor()\n",
    "# open inventory db to df to match names\n",
    "    db_df = pd.read_sql_query(f\"SELECT * FROM '{dbtable}'\", con)\n",
    "# loop to update scrapped price in loaded data frame\n",
    "    count = 0\n",
    "    while count < len(db_df): # next itteration if loop fails \n",
    "        try:\n",
    "            for i in range(count , len(db_df)):\n",
    "                search = db_df.loc[i,['name']]   # \n",
    "                search = search['name']\n",
    "                search_df = mkt_df.loc[mkt_df['Name'] == search]\n",
    "                           # break if no match\n",
    "                search_df.reset_index(drop=True, inplace=True)\n",
    "                search_result = search_df[\"Market Price\"][0]\n",
    "                db_df.loc[i,['MktPrice']] = search_result\n",
    "                count = count + 1\n",
    "        except: # if no match \n",
    "                db_df.loc[i,['MktPrice']] = \"0\"\n",
    "                count = count + 1\n",
    "# comit df to db\n",
    "    for i in range(len(mkt_df)):\n",
    "        search = mkt_df.loc[i,['Name']]   # \n",
    "        search = search['Name']\n",
    "        x = mkt_df.loc[i,['Market Price']]  \n",
    "        x = x['Market Price']\n",
    "        insert_sql = f'''UPDATE  '{dbtable}'  set MktPrice =\"{x}\" where \"name\" = \"{search}\"'''\n",
    "        cur.execute(insert_sql)\n",
    "        con.commit()\n",
    "    print(f'{dbtable} updated sucesfully')"
   ]
  },
  {
   "cell_type": "code",
   "execution_count": null,
   "id": "f360bede",
   "metadata": {},
   "outputs": [],
   "source": []
  }
 ],
 "metadata": {
  "kernelspec": {
   "display_name": "Python 3 (ipykernel)",
   "language": "python",
   "name": "python3"
  },
  "language_info": {
   "codemirror_mode": {
    "name": "ipython",
    "version": 3
   },
   "file_extension": ".py",
   "mimetype": "text/x-python",
   "name": "python",
   "nbconvert_exporter": "python",
   "pygments_lexer": "ipython3",
   "version": "3.11.3"
  }
 },
 "nbformat": 4,
 "nbformat_minor": 5
}
