{
 "cells": [
  {
   "cell_type": "code",
   "execution_count": 1,
   "id": "4fe50f04",
   "metadata": {},
   "outputs": [],
   "source": [
    "import pandas as pd\n",
    "from splinter import Browser\n",
    "from bs4 import BeautifulSoup\n",
    "import time\n",
    "import requests\n",
    "import os\n",
    "import csv\n",
    "from selenium import webdriver\n",
    "from webdriver_manager.chrome import ChromeDriverManager\n",
    "from pathlib import Path\n",
    "from datetime import datetime"
   ]
  },
  {
   "cell_type": "code",
   "execution_count": 2,
   "id": "f6bbd015",
   "metadata": {},
   "outputs": [],
   "source": [
    "from splinter import Browser\n",
    "from selenium.webdriver.chrome.service import Service\n",
    "\n",
    "my_service = Service(executable_path=r'C:\\Users\\pc\\OneDrive\\Desktop\\TCG-scraper\\chromedriver.exe')\n",
    "browser = Browser('chrome', service=my_service)"
   ]
  },
  {
   "cell_type": "code",
   "execution_count": 3,
   "id": "15eb4a16",
   "metadata": {},
   "outputs": [],
   "source": [
    "\n",
    "sset = [\"innistrad-crimson-vow\"]"
   ]
  },
  {
   "cell_type": "code",
   "execution_count": 4,
   "id": "72925b2f",
   "metadata": {},
   "outputs": [],
   "source": [
    "for x in sset:\n",
    "    url =f\"https://shop.tcgplayer.com/price-guide/magic/{x}\"\n",
    "    browser.visit(url)\n",
    "    time.sleep(4)\n",
    "    req = browser.html\n",
    "    soup = BeautifulSoup(req, \"html\")\n",
    "    names= []\n",
    "    title_tags = soup.find_all('a', class_ = \"pdp-url\")\n",
    "    for i in title_tags:\n",
    "       names.append(i.text)\n",
    "    prices =[]\n",
    "    price = soup.find_all('td', class_ = \"tcg-table-body__cell tcg-table-body__cell--align-right\")\n",
    "    count = -1\n",
    "    for i in price:\n",
    "        count = count +1\n",
    "        if  count%2 > 0 :\n",
    "            prices.append(i.text)\n",
    "    price_list= zip(names, prices)\n",
    "    mkt_df = pd.DataFrame(price_list,) \n",
    "    mkt_df = mkt_df.reset_index(drop=True)\n",
    "    mkt_df.columns = ['Name', 'Market Price']\n",
    "    mkt_df['date']= datetime.today().strftime('%Y-%m-%d')\n",
    "    #mkt_df.to_csv(f'{x}_priceData.csv')\n",
    "    "
   ]
  },
  {
   "cell_type": "code",
   "execution_count": 5,
   "id": "4a98021e",
   "metadata": {},
   "outputs": [
    {
     "data": {
      "text/html": [
       "<div>\n",
       "<style scoped>\n",
       "    .dataframe tbody tr th:only-of-type {\n",
       "        vertical-align: middle;\n",
       "    }\n",
       "\n",
       "    .dataframe tbody tr th {\n",
       "        vertical-align: top;\n",
       "    }\n",
       "\n",
       "    .dataframe thead th {\n",
       "        text-align: right;\n",
       "    }\n",
       "</style>\n",
       "<table border=\"1\" class=\"dataframe\">\n",
       "  <thead>\n",
       "    <tr style=\"text-align: right;\">\n",
       "      <th></th>\n",
       "      <th>Name</th>\n",
       "      <th>Market Price</th>\n",
       "      <th>date</th>\n",
       "    </tr>\n",
       "  </thead>\n",
       "  <tbody>\n",
       "    <tr>\n",
       "      <th>0</th>\n",
       "      <td>Abrade</td>\n",
       "      <td>$0.10</td>\n",
       "      <td>2023-11-21</td>\n",
       "    </tr>\n",
       "    <tr>\n",
       "      <th>1</th>\n",
       "      <td>Abraham Van Helsing - Savior of Ollenbock</td>\n",
       "      <td>$0.55</td>\n",
       "      <td>2023-11-21</td>\n",
       "    </tr>\n",
       "    <tr>\n",
       "      <th>2</th>\n",
       "      <td>Adamant Will</td>\n",
       "      <td>$0.02</td>\n",
       "      <td>2023-11-21</td>\n",
       "    </tr>\n",
       "    <tr>\n",
       "      <th>3</th>\n",
       "      <td>Aim for the Head</td>\n",
       "      <td>$0.03</td>\n",
       "      <td>2023-11-21</td>\n",
       "    </tr>\n",
       "    <tr>\n",
       "      <th>4</th>\n",
       "      <td>Alchemist's Gambit</td>\n",
       "      <td>$0.15</td>\n",
       "      <td>2023-11-21</td>\n",
       "    </tr>\n",
       "    <tr>\n",
       "      <th>5</th>\n",
       "      <td>Alchemist's Gambit (Extended Art)</td>\n",
       "      <td>$0.31</td>\n",
       "      <td>2023-11-21</td>\n",
       "    </tr>\n",
       "    <tr>\n",
       "      <th>6</th>\n",
       "      <td>Alchemist's Retrieval</td>\n",
       "      <td>$0.09</td>\n",
       "      <td>2023-11-21</td>\n",
       "    </tr>\n",
       "    <tr>\n",
       "      <th>7</th>\n",
       "      <td>Alluring Suitor</td>\n",
       "      <td>$0.02</td>\n",
       "      <td>2023-11-21</td>\n",
       "    </tr>\n",
       "    <tr>\n",
       "      <th>8</th>\n",
       "      <td>Alluring Suitor (Showcase)</td>\n",
       "      <td>$0.03</td>\n",
       "      <td>2023-11-21</td>\n",
       "    </tr>\n",
       "    <tr>\n",
       "      <th>9</th>\n",
       "      <td>Ancestral Anger</td>\n",
       "      <td>$0.13</td>\n",
       "      <td>2023-11-21</td>\n",
       "    </tr>\n",
       "    <tr>\n",
       "      <th>10</th>\n",
       "      <td>Ancient Lumberknot</td>\n",
       "      <td>$0.10</td>\n",
       "      <td>2023-11-21</td>\n",
       "    </tr>\n",
       "    <tr>\n",
       "      <th>11</th>\n",
       "      <td>Angelic Quartermaster</td>\n",
       "      <td>$0.04</td>\n",
       "      <td>2023-11-21</td>\n",
       "    </tr>\n",
       "    <tr>\n",
       "      <th>12</th>\n",
       "      <td>Anje, Maid of Dishonor</td>\n",
       "      <td>$0.16</td>\n",
       "      <td>2023-11-21</td>\n",
       "    </tr>\n",
       "    <tr>\n",
       "      <th>13</th>\n",
       "      <td>Anje, Maid of Dishonor (Showcase)</td>\n",
       "      <td>$0.31</td>\n",
       "      <td>2023-11-21</td>\n",
       "    </tr>\n",
       "    <tr>\n",
       "      <th>14</th>\n",
       "      <td>Apprentice Sharpshooter</td>\n",
       "      <td>$0.02</td>\n",
       "      <td>2023-11-21</td>\n",
       "    </tr>\n",
       "    <tr>\n",
       "      <th>15</th>\n",
       "      <td>Archghoul of Thraben</td>\n",
       "      <td>$0.15</td>\n",
       "      <td>2023-11-21</td>\n",
       "    </tr>\n",
       "    <tr>\n",
       "      <th>16</th>\n",
       "      <td>Arm the Cathars</td>\n",
       "      <td>$0.01</td>\n",
       "      <td>2023-11-21</td>\n",
       "    </tr>\n",
       "    <tr>\n",
       "      <th>17</th>\n",
       "      <td>Ascendant Packleader</td>\n",
       "      <td>$0.16</td>\n",
       "      <td>2023-11-21</td>\n",
       "    </tr>\n",
       "    <tr>\n",
       "      <th>18</th>\n",
       "      <td>Ascendant Packleader (Extended Art)</td>\n",
       "      <td>$0.40</td>\n",
       "      <td>2023-11-21</td>\n",
       "    </tr>\n",
       "    <tr>\n",
       "      <th>19</th>\n",
       "      <td>Avabruck Caretaker</td>\n",
       "      <td>$4.57</td>\n",
       "      <td>2023-11-21</td>\n",
       "    </tr>\n",
       "  </tbody>\n",
       "</table>\n",
       "</div>"
      ],
      "text/plain": [
       "                                         Name Market Price        date\n",
       "0                                      Abrade        $0.10  2023-11-21\n",
       "1   Abraham Van Helsing - Savior of Ollenbock        $0.55  2023-11-21\n",
       "2                                Adamant Will        $0.02  2023-11-21\n",
       "3                            Aim for the Head        $0.03  2023-11-21\n",
       "4                          Alchemist's Gambit        $0.15  2023-11-21\n",
       "5           Alchemist's Gambit (Extended Art)        $0.31  2023-11-21\n",
       "6                       Alchemist's Retrieval        $0.09  2023-11-21\n",
       "7                             Alluring Suitor        $0.02  2023-11-21\n",
       "8                  Alluring Suitor (Showcase)        $0.03  2023-11-21\n",
       "9                             Ancestral Anger        $0.13  2023-11-21\n",
       "10                         Ancient Lumberknot        $0.10  2023-11-21\n",
       "11                      Angelic Quartermaster        $0.04  2023-11-21\n",
       "12                     Anje, Maid of Dishonor        $0.16  2023-11-21\n",
       "13          Anje, Maid of Dishonor (Showcase)        $0.31  2023-11-21\n",
       "14                    Apprentice Sharpshooter        $0.02  2023-11-21\n",
       "15                       Archghoul of Thraben        $0.15  2023-11-21\n",
       "16                            Arm the Cathars        $0.01  2023-11-21\n",
       "17                       Ascendant Packleader        $0.16  2023-11-21\n",
       "18        Ascendant Packleader (Extended Art)        $0.40  2023-11-21\n",
       "19                         Avabruck Caretaker        $4.57  2023-11-21"
      ]
     },
     "execution_count": 5,
     "metadata": {},
     "output_type": "execute_result"
    }
   ],
   "source": [
    "mkt_df"
   ]
  },
  {
   "cell_type": "code",
   "execution_count": 29,
   "id": "07350613",
   "metadata": {},
   "outputs": [],
   "source": [
    "browser = Browser('chrome', service=my_service)\n",
    "url =f\"https://shop.tcgplayer.com/price-guide/magic/{x}\"\n",
    "browser.visit(url)\n",
    "browser.driver.maximize_window()"
   ]
  },
  {
   "cell_type": "code",
   "execution_count": 24,
   "id": "f34190be",
   "metadata": {},
   "outputs": [],
   "source": [
    "browser.execute_script(\"window.scrollTo(400, document.body.scrollHeight);\")"
   ]
  },
  {
   "cell_type": "code",
   "execution_count": 22,
   "id": "0a7c94de",
   "metadata": {},
   "outputs": [
    {
     "ename": "InvalidSelectorException",
     "evalue": "Message: invalid selector: Unable to locate an element with the xpath expression //*[@id=\"app\"]/div/div/section[2]/section/div[3]/div/div/div/div[2]/div/div[2]/div[1]/div/div/div/div/div/button] because of the following error:\nSyntaxError: Failed to execute 'evaluate' on 'Document': The string '//*[@id=\"app\"]/div/div/section[2]/section/div[3]/div/div/div/div[2]/div/div[2]/div[1]/div/div/div/div/div/button]' is not a valid XPath expression.\n  (Session info: chrome=119.0.6045.160)\nStacktrace:\n\tGetHandleVerifier [0x007D72A3+45731]\n\t(No symbol) [0x00762D51]\n\t(No symbol) [0x0065880D]\n\t(No symbol) [0x0065C3EA]\n\t(No symbol) [0x0065DB1A]\n\t(No symbol) [0x0065DBC0]\n\t(No symbol) [0x0068BAA7]\n\t(No symbol) [0x0068BE0B]\n\t(No symbol) [0x006BD22C]\n\t(No symbol) [0x006A8024]\n\t(No symbol) [0x006BB7A2]\n\t(No symbol) [0x006A7DD6]\n\t(No symbol) [0x006831F6]\n\t(No symbol) [0x0068439D]\n\tGetHandleVerifier [0x00AE0716+3229462]\n\tGetHandleVerifier [0x00B284C8+3523784]\n\tGetHandleVerifier [0x00B2214C+3498316]\n\tGetHandleVerifier [0x00861680+611968]\n\t(No symbol) [0x0076CCCC]\n\t(No symbol) [0x00768DF8]\n\t(No symbol) [0x00768F1D]\n\t(No symbol) [0x0075B2C7]\n\tBaseThreadInitThunk [0x7629FCC9+25]\n\tRtlGetAppContainerNamedObjectPath [0x77BE7C6E+286]\n\tRtlGetAppContainerNamedObjectPath [0x77BE7C3E+238]\n",
     "output_type": "error",
     "traceback": [
      "\u001b[1;31m---------------------------------------------------------------------------\u001b[0m",
      "\u001b[1;31mInvalidSelectorException\u001b[0m                  Traceback (most recent call last)",
      "Cell \u001b[1;32mIn[22], line 1\u001b[0m\n\u001b[1;32m----> 1\u001b[0m browser\u001b[38;5;241m.\u001b[39mfind_by_xpath(\u001b[38;5;124m'\u001b[39m\u001b[38;5;124m//*[@id=\u001b[39m\u001b[38;5;124m\"\u001b[39m\u001b[38;5;124mapp\u001b[39m\u001b[38;5;124m\"\u001b[39m\u001b[38;5;124m]/div/div/section[2]/section/div[3]/div/div/div/div[2]/div/div[2]/div[1]/div/div/div/div/div/button]\u001b[39m\u001b[38;5;124m'\u001b[39m)\u001b[38;5;241m.\u001b[39mclick()\n",
      "File \u001b[1;32m~\\anaconda3\\Lib\\site-packages\\splinter\\driver\\webdriver\\__init__.py:509\u001b[0m, in \u001b[0;36mBaseWebDriver.find_by_xpath\u001b[1;34m(self, xpath, original_find, original_query, wait_time)\u001b[0m\n\u001b[0;32m    507\u001b[0m \u001b[38;5;28;01mdef\u001b[39;00m \u001b[38;5;21mfind_by_xpath\u001b[39m(\u001b[38;5;28mself\u001b[39m, xpath, original_find\u001b[38;5;241m=\u001b[39m\u001b[38;5;124m\"\u001b[39m\u001b[38;5;124mxpath\u001b[39m\u001b[38;5;124m\"\u001b[39m, original_query\u001b[38;5;241m=\u001b[39m\u001b[38;5;28;01mNone\u001b[39;00m, wait_time\u001b[38;5;241m=\u001b[39m\u001b[38;5;28;01mNone\u001b[39;00m):\n\u001b[0;32m    508\u001b[0m     original_query \u001b[38;5;241m=\u001b[39m original_query \u001b[38;5;129;01mor\u001b[39;00m xpath\n\u001b[1;32m--> 509\u001b[0m     \u001b[38;5;28;01mreturn\u001b[39;00m \u001b[38;5;28mself\u001b[39m\u001b[38;5;241m.\u001b[39mfind_by(\n\u001b[0;32m    510\u001b[0m         \u001b[38;5;28mself\u001b[39m\u001b[38;5;241m.\u001b[39mdriver\u001b[38;5;241m.\u001b[39mfind_elements,\n\u001b[0;32m    511\u001b[0m         finder_kwargs\u001b[38;5;241m=\u001b[39m{\u001b[38;5;124m'\u001b[39m\u001b[38;5;124mby\u001b[39m\u001b[38;5;124m'\u001b[39m: By\u001b[38;5;241m.\u001b[39mXPATH, \u001b[38;5;124m'\u001b[39m\u001b[38;5;124mvalue\u001b[39m\u001b[38;5;124m'\u001b[39m: xpath},\n\u001b[0;32m    512\u001b[0m         original_find\u001b[38;5;241m=\u001b[39moriginal_find,\n\u001b[0;32m    513\u001b[0m         original_query\u001b[38;5;241m=\u001b[39moriginal_query,\n\u001b[0;32m    514\u001b[0m         wait_time\u001b[38;5;241m=\u001b[39mwait_time,\n\u001b[0;32m    515\u001b[0m     )\n",
      "File \u001b[1;32m~\\anaconda3\\Lib\\site-packages\\splinter\\driver\\webdriver\\__init__.py:276\u001b[0m, in \u001b[0;36mfind_by\u001b[1;34m(self, finder, finder_kwargs, original_find, original_query, wait_time)\u001b[0m\n\u001b[0;32m    273\u001b[0m end_time \u001b[38;5;241m=\u001b[39m time\u001b[38;5;241m.\u001b[39mtime() \u001b[38;5;241m+\u001b[39m wait_time\n\u001b[0;32m    275\u001b[0m \u001b[38;5;28;01mwhile\u001b[39;00m time\u001b[38;5;241m.\u001b[39mtime() \u001b[38;5;241m<\u001b[39m end_time:\n\u001b[1;32m--> 276\u001b[0m     elem_list \u001b[38;5;241m=\u001b[39m _find(\u001b[38;5;28mself\u001b[39m, finder, finder_kwargs)\n\u001b[0;32m    278\u001b[0m     \u001b[38;5;28;01mif\u001b[39;00m elem_list:\n\u001b[0;32m    279\u001b[0m         \u001b[38;5;28;01mbreak\u001b[39;00m\n",
      "File \u001b[1;32m~\\anaconda3\\Lib\\site-packages\\splinter\\driver\\webdriver\\__init__.py:229\u001b[0m, in \u001b[0;36m_find\u001b[1;34m(self, finder, finder_kwargs)\u001b[0m\n\u001b[0;32m    226\u001b[0m elem_list \u001b[38;5;241m=\u001b[39m []\n\u001b[0;32m    228\u001b[0m \u001b[38;5;28;01mtry\u001b[39;00m:\n\u001b[1;32m--> 229\u001b[0m     elements \u001b[38;5;241m=\u001b[39m finder(\u001b[38;5;241m*\u001b[39m\u001b[38;5;241m*\u001b[39mfinder_kwargs)\n\u001b[0;32m    230\u001b[0m     \u001b[38;5;28;01mif\u001b[39;00m \u001b[38;5;129;01mnot\u001b[39;00m \u001b[38;5;28misinstance\u001b[39m(elements, \u001b[38;5;28mlist\u001b[39m):\n\u001b[0;32m    231\u001b[0m         elements \u001b[38;5;241m=\u001b[39m [elements]\n",
      "File \u001b[1;32m~\\anaconda3\\Lib\\site-packages\\selenium\\webdriver\\remote\\webdriver.py:1284\u001b[0m, in \u001b[0;36mWebDriver.find_elements\u001b[1;34m(self, by, value)\u001b[0m\n\u001b[0;32m   1280\u001b[0m     value \u001b[38;5;241m=\u001b[39m \u001b[38;5;124m'\u001b[39m\u001b[38;5;124m[name=\u001b[39m\u001b[38;5;124m\"\u001b[39m\u001b[38;5;132;01m%s\u001b[39;00m\u001b[38;5;124m\"\u001b[39m\u001b[38;5;124m]\u001b[39m\u001b[38;5;124m'\u001b[39m \u001b[38;5;241m%\u001b[39m value\n\u001b[0;32m   1282\u001b[0m \u001b[38;5;66;03m# Return empty list if driver returns null\u001b[39;00m\n\u001b[0;32m   1283\u001b[0m \u001b[38;5;66;03m# See https://github.com/SeleniumHQ/selenium/issues/4555\u001b[39;00m\n\u001b[1;32m-> 1284\u001b[0m \u001b[38;5;28;01mreturn\u001b[39;00m \u001b[38;5;28mself\u001b[39m\u001b[38;5;241m.\u001b[39mexecute(Command\u001b[38;5;241m.\u001b[39mFIND_ELEMENTS, {\n\u001b[0;32m   1285\u001b[0m     \u001b[38;5;124m'\u001b[39m\u001b[38;5;124musing\u001b[39m\u001b[38;5;124m'\u001b[39m: by,\n\u001b[0;32m   1286\u001b[0m     \u001b[38;5;124m'\u001b[39m\u001b[38;5;124mvalue\u001b[39m\u001b[38;5;124m'\u001b[39m: value})[\u001b[38;5;124m'\u001b[39m\u001b[38;5;124mvalue\u001b[39m\u001b[38;5;124m'\u001b[39m] \u001b[38;5;129;01mor\u001b[39;00m []\n",
      "File \u001b[1;32m~\\anaconda3\\Lib\\site-packages\\selenium\\webdriver\\remote\\webdriver.py:430\u001b[0m, in \u001b[0;36mWebDriver.execute\u001b[1;34m(self, driver_command, params)\u001b[0m\n\u001b[0;32m    428\u001b[0m response \u001b[38;5;241m=\u001b[39m \u001b[38;5;28mself\u001b[39m\u001b[38;5;241m.\u001b[39mcommand_executor\u001b[38;5;241m.\u001b[39mexecute(driver_command, params)\n\u001b[0;32m    429\u001b[0m \u001b[38;5;28;01mif\u001b[39;00m response:\n\u001b[1;32m--> 430\u001b[0m     \u001b[38;5;28mself\u001b[39m\u001b[38;5;241m.\u001b[39merror_handler\u001b[38;5;241m.\u001b[39mcheck_response(response)\n\u001b[0;32m    431\u001b[0m     response[\u001b[38;5;124m'\u001b[39m\u001b[38;5;124mvalue\u001b[39m\u001b[38;5;124m'\u001b[39m] \u001b[38;5;241m=\u001b[39m \u001b[38;5;28mself\u001b[39m\u001b[38;5;241m.\u001b[39m_unwrap_value(\n\u001b[0;32m    432\u001b[0m         response\u001b[38;5;241m.\u001b[39mget(\u001b[38;5;124m'\u001b[39m\u001b[38;5;124mvalue\u001b[39m\u001b[38;5;124m'\u001b[39m, \u001b[38;5;28;01mNone\u001b[39;00m))\n\u001b[0;32m    433\u001b[0m     \u001b[38;5;28;01mreturn\u001b[39;00m response\n",
      "File \u001b[1;32m~\\anaconda3\\Lib\\site-packages\\selenium\\webdriver\\remote\\errorhandler.py:247\u001b[0m, in \u001b[0;36mErrorHandler.check_response\u001b[1;34m(self, response)\u001b[0m\n\u001b[0;32m    245\u001b[0m         alert_text \u001b[38;5;241m=\u001b[39m value[\u001b[38;5;124m'\u001b[39m\u001b[38;5;124malert\u001b[39m\u001b[38;5;124m'\u001b[39m]\u001b[38;5;241m.\u001b[39mget(\u001b[38;5;124m'\u001b[39m\u001b[38;5;124mtext\u001b[39m\u001b[38;5;124m'\u001b[39m)\n\u001b[0;32m    246\u001b[0m     \u001b[38;5;28;01mraise\u001b[39;00m exception_class(message, screen, stacktrace, alert_text)  \u001b[38;5;66;03m# type: ignore[call-arg]  # mypy is not smart enough here\u001b[39;00m\n\u001b[1;32m--> 247\u001b[0m \u001b[38;5;28;01mraise\u001b[39;00m exception_class(message, screen, stacktrace)\n",
      "\u001b[1;31mInvalidSelectorException\u001b[0m: Message: invalid selector: Unable to locate an element with the xpath expression //*[@id=\"app\"]/div/div/section[2]/section/div[3]/div/div/div/div[2]/div/div[2]/div[1]/div/div/div/div/div/button] because of the following error:\nSyntaxError: Failed to execute 'evaluate' on 'Document': The string '//*[@id=\"app\"]/div/div/section[2]/section/div[3]/div/div/div/div[2]/div/div[2]/div[1]/div/div/div/div/div/button]' is not a valid XPath expression.\n  (Session info: chrome=119.0.6045.160)\nStacktrace:\n\tGetHandleVerifier [0x007D72A3+45731]\n\t(No symbol) [0x00762D51]\n\t(No symbol) [0x0065880D]\n\t(No symbol) [0x0065C3EA]\n\t(No symbol) [0x0065DB1A]\n\t(No symbol) [0x0065DBC0]\n\t(No symbol) [0x0068BAA7]\n\t(No symbol) [0x0068BE0B]\n\t(No symbol) [0x006BD22C]\n\t(No symbol) [0x006A8024]\n\t(No symbol) [0x006BB7A2]\n\t(No symbol) [0x006A7DD6]\n\t(No symbol) [0x006831F6]\n\t(No symbol) [0x0068439D]\n\tGetHandleVerifier [0x00AE0716+3229462]\n\tGetHandleVerifier [0x00B284C8+3523784]\n\tGetHandleVerifier [0x00B2214C+3498316]\n\tGetHandleVerifier [0x00861680+611968]\n\t(No symbol) [0x0076CCCC]\n\t(No symbol) [0x00768DF8]\n\t(No symbol) [0x00768F1D]\n\t(No symbol) [0x0075B2C7]\n\tBaseThreadInitThunk [0x7629FCC9+25]\n\tRtlGetAppContainerNamedObjectPath [0x77BE7C6E+286]\n\tRtlGetAppContainerNamedObjectPath [0x77BE7C3E+238]\n"
     ]
    }
   ],
   "source": [
    "browser.find_by_xpath('//*[@id=\"app\"]/div/div/section[2]/section/div[3]/div/div/div/div[2]/div/div[2]/div[1]/div/div/div/div/div/button]').click()"
   ]
  },
  {
   "cell_type": "code",
   "execution_count": 10,
   "id": "a052ea5c",
   "metadata": {},
   "outputs": [
    {
     "ename": "ElementDoesNotExist",
     "evalue": "no elements could be found with xpath \"//*[@id=\"tcg-base-dropdown-366-dropdown-item-3\"]/span\"",
     "output_type": "error",
     "traceback": [
      "\u001b[1;31m---------------------------------------------------------------------------\u001b[0m",
      "\u001b[1;31mIndexError\u001b[0m                                Traceback (most recent call last)",
      "File \u001b[1;32m~\\anaconda3\\Lib\\site-packages\\splinter\\element_list.py:40\u001b[0m, in \u001b[0;36mElementList.__getitem__\u001b[1;34m(self, index)\u001b[0m\n\u001b[0;32m     39\u001b[0m \u001b[38;5;28;01mtry\u001b[39;00m:\n\u001b[1;32m---> 40\u001b[0m     \u001b[38;5;28;01mreturn\u001b[39;00m \u001b[38;5;28mself\u001b[39m\u001b[38;5;241m.\u001b[39m_container[index]\n\u001b[0;32m     41\u001b[0m \u001b[38;5;28;01mexcept\u001b[39;00m \u001b[38;5;167;01mIndexError\u001b[39;00m:\n",
      "\u001b[1;31mIndexError\u001b[0m: list index out of range",
      "\nDuring handling of the above exception, another exception occurred:\n",
      "\u001b[1;31mElementDoesNotExist\u001b[0m                       Traceback (most recent call last)",
      "Cell \u001b[1;32mIn[10], line 1\u001b[0m\n\u001b[1;32m----> 1\u001b[0m browser\u001b[38;5;241m.\u001b[39mfind_by_xpath(\u001b[38;5;124m'\u001b[39m\u001b[38;5;124m//*[@id=\u001b[39m\u001b[38;5;124m\"\u001b[39m\u001b[38;5;124mtcg-base-dropdown-366-dropdown-item-3\u001b[39m\u001b[38;5;124m\"\u001b[39m\u001b[38;5;124m]/span\u001b[39m\u001b[38;5;124m'\u001b[39m)\u001b[38;5;241m.\u001b[39mclick()\n",
      "File \u001b[1;32m~\\anaconda3\\Lib\\site-packages\\splinter\\element_list.py:78\u001b[0m, in \u001b[0;36mElementList.__getattr__\u001b[1;34m(self, name)\u001b[0m\n\u001b[0;32m     76\u001b[0m \u001b[38;5;28;01mdef\u001b[39;00m \u001b[38;5;21m__getattr__\u001b[39m(\u001b[38;5;28mself\u001b[39m, name):\n\u001b[0;32m     77\u001b[0m     \u001b[38;5;28;01mtry\u001b[39;00m:\n\u001b[1;32m---> 78\u001b[0m         \u001b[38;5;28;01mreturn\u001b[39;00m \u001b[38;5;28mgetattr\u001b[39m(\u001b[38;5;28mself\u001b[39m\u001b[38;5;241m.\u001b[39mfirst, name)\n\u001b[0;32m     79\u001b[0m     \u001b[38;5;28;01mexcept\u001b[39;00m \u001b[38;5;167;01mAttributeError\u001b[39;00m:\n\u001b[0;32m     80\u001b[0m         \u001b[38;5;28;01mtry\u001b[39;00m:\n",
      "File \u001b[1;32m~\\anaconda3\\Lib\\site-packages\\splinter\\element_list.py:56\u001b[0m, in \u001b[0;36mElementList.first\u001b[1;34m(self)\u001b[0m\n\u001b[0;32m     48\u001b[0m \u001b[38;5;129m@property\u001b[39m\n\u001b[0;32m     49\u001b[0m \u001b[38;5;28;01mdef\u001b[39;00m \u001b[38;5;21mfirst\u001b[39m(\u001b[38;5;28mself\u001b[39m):\n\u001b[0;32m     50\u001b[0m \u001b[38;5;250m    \u001b[39m\u001b[38;5;124;03m\"\"\"An alias to the first element of the list.\u001b[39;00m\n\u001b[0;32m     51\u001b[0m \n\u001b[0;32m     52\u001b[0m \u001b[38;5;124;03m    Example:\u001b[39;00m\n\u001b[0;32m     53\u001b[0m \n\u001b[0;32m     54\u001b[0m \u001b[38;5;124;03m        >>> assert element_list[0] == element_list.first\u001b[39;00m\n\u001b[0;32m     55\u001b[0m \u001b[38;5;124;03m    \"\"\"\u001b[39;00m\n\u001b[1;32m---> 56\u001b[0m     \u001b[38;5;28;01mreturn\u001b[39;00m \u001b[38;5;28mself\u001b[39m[\u001b[38;5;241m0\u001b[39m]\n",
      "File \u001b[1;32m~\\anaconda3\\Lib\\site-packages\\splinter\\element_list.py:42\u001b[0m, in \u001b[0;36mElementList.__getitem__\u001b[1;34m(self, index)\u001b[0m\n\u001b[0;32m     40\u001b[0m     \u001b[38;5;28;01mreturn\u001b[39;00m \u001b[38;5;28mself\u001b[39m\u001b[38;5;241m.\u001b[39m_container[index]\n\u001b[0;32m     41\u001b[0m \u001b[38;5;28;01mexcept\u001b[39;00m \u001b[38;5;167;01mIndexError\u001b[39;00m:\n\u001b[1;32m---> 42\u001b[0m     \u001b[38;5;28;01mraise\u001b[39;00m ElementDoesNotExist(\n\u001b[0;32m     43\u001b[0m         \u001b[38;5;124mu\u001b[39m\u001b[38;5;124m'\u001b[39m\u001b[38;5;124mno elements could be found with \u001b[39m\u001b[38;5;132;01m{0}\u001b[39;00m\u001b[38;5;124m \u001b[39m\u001b[38;5;124m\"\u001b[39m\u001b[38;5;132;01m{1}\u001b[39;00m\u001b[38;5;124m\"\u001b[39m\u001b[38;5;124m'\u001b[39m\u001b[38;5;241m.\u001b[39mformat(\n\u001b[0;32m     44\u001b[0m             \u001b[38;5;28mself\u001b[39m\u001b[38;5;241m.\u001b[39mfind_by, \u001b[38;5;28mself\u001b[39m\u001b[38;5;241m.\u001b[39mquery\n\u001b[0;32m     45\u001b[0m         )\n\u001b[0;32m     46\u001b[0m     )\n",
      "\u001b[1;31mElementDoesNotExist\u001b[0m: no elements could be found with xpath \"//*[@id=\"tcg-base-dropdown-366-dropdown-item-3\"]/span\""
     ]
    }
   ],
   "source": [
    "browser.find_by_xpath('//*[@id=\"tcg-base-dropdown-366-dropdown-item-3\"]/span').click()"
   ]
  },
  {
   "cell_type": "code",
   "execution_count": 25,
   "id": "39c2590d",
   "metadata": {},
   "outputs": [
    {
     "ename": "NameError",
     "evalue": "name 'ChromeOptions' is not defined",
     "output_type": "error",
     "traceback": [
      "\u001b[1;31m---------------------------------------------------------------------------\u001b[0m",
      "\u001b[1;31mNameError\u001b[0m                                 Traceback (most recent call last)",
      "Cell \u001b[1;32mIn[25], line 1\u001b[0m\n\u001b[1;32m----> 1\u001b[0m options \u001b[38;5;241m=\u001b[39m ChromeOptions()\n\u001b[0;32m      2\u001b[0m options\u001b[38;5;241m.\u001b[39madd_argument(\u001b[38;5;124m\"\u001b[39m\u001b[38;5;124m--start-maximized\u001b[39m\u001b[38;5;124m\"\u001b[39m)\n\u001b[0;32m      3\u001b[0m driver \u001b[38;5;241m=\u001b[39m ChromeDriver(options)\n",
      "\u001b[1;31mNameError\u001b[0m: name 'ChromeOptions' is not defined"
     ]
    }
   ],
   "source": [
    "options = ChromeOptions()\n",
    "options.add_argument(\"--start-maximized\")\n",
    "driver = ChromeDriver(options)"
   ]
  },
  {
   "cell_type": "code",
   "execution_count": 27,
   "id": "7364f269",
   "metadata": {},
   "outputs": [],
   "source": [
    "from selenium.webdriver.chrome.options import Options\n",
    "\n",
    "chrome_options = Options()\n",
    "# maximized window\n",
    "chrome_options.add_argument(\"--start-maximized\")"
   ]
  },
  {
   "cell_type": "code",
   "execution_count": null,
   "id": "55010293",
   "metadata": {},
   "outputs": [],
   "source": []
  }
 ],
 "metadata": {
  "kernelspec": {
   "display_name": "Python 3 (ipykernel)",
   "language": "python",
   "name": "python3"
  },
  "language_info": {
   "codemirror_mode": {
    "name": "ipython",
    "version": 3
   },
   "file_extension": ".py",
   "mimetype": "text/x-python",
   "name": "python",
   "nbconvert_exporter": "python",
   "pygments_lexer": "ipython3",
   "version": "3.11.3"
  }
 },
 "nbformat": 4,
 "nbformat_minor": 5
}
