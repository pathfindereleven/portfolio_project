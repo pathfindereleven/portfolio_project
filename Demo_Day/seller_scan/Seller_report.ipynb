{
 "cells": [
  {
   "cell_type": "code",
   "execution_count": 1,
   "id": "91224c52",
   "metadata": {},
   "outputs": [],
   "source": [
    "import pandas as pd\n",
    "from splinter import Browser\n",
    "from bs4 import BeautifulSoup\n",
    "import time\n",
    "import requests\n",
    "import os\n",
    "import csv\n",
    "from selenium import webdriver\n",
    "from webdriver_manager.chrome import ChromeDriverManager"
   ]
  },
  {
   "cell_type": "code",
   "execution_count": 2,
   "id": "6e235419",
   "metadata": {},
   "outputs": [],
   "source": [
    "from splinter import Browser\n",
    "from selenium.webdriver.chrome.service import Service\n",
    "\n",
    "my_service = Service(executable_path=r'C:\\Users\\pc\\OneDrive\\Desktop\\TCG-scraper\\chromedriver.exe')\n",
    "browser = Browser('chrome', service=my_service)"
   ]
  },
  {
   "cell_type": "code",
   "execution_count": 3,
   "id": "b60bfa20",
   "metadata": {},
   "outputs": [],
   "source": [
    "# visiting the webpage\n",
    "\n",
    "url = 'https://shop.tcgplayer.com/sellers'\n",
    "browser.visit(url)"
   ]
  },
  {
   "cell_type": "code",
   "execution_count": 4,
   "id": "ba921c61",
   "metadata": {},
   "outputs": [],
   "source": [
    "# xpath for the next button at the end of each page\n",
    "# //*[@id=\"app\"]/div/div/section[2]/section/section/section/div[2]/div[1]/a[2]/span/span/svg\n",
    "\n",
    "# text_xpath = '//*[@id=\"SellerName\"]'\n",
    "seller = 'GAMELAND'\n",
    "seller_list = [seller, 'xyz', 'abc']\n",
    "\n",
    "\n",
    "# passing in the seller name\n",
    "\n",
    "browser.fill('SellerName', seller)"
   ]
  },
  {
   "cell_type": "code",
   "execution_count": 5,
   "id": "7e5b4121",
   "metadata": {},
   "outputs": [],
   "source": [
    "browser.find_by_xpath('//*[@id=\"maincontentinnerpadding\"]/div/div/form/div/ul/li[4]/div/input').click()\n",
    "#time.sleep(3)\n",
    "browser.find_by_xpath('//*[@id=\"maincontentinnerpadding\"]/div/div[2]/div[3]/div/div[3]/button').click()\n",
    "time.sleep(3)"
   ]
  },
  {
   "cell_type": "code",
   "execution_count": 6,
   "id": "0a589954",
   "metadata": {},
   "outputs": [],
   "source": [
    "price_list = []"
   ]
  },
  {
   "cell_type": "code",
   "execution_count": 7,
   "id": "7a29f378",
   "metadata": {},
   "outputs": [
    {
     "ename": "NoSuchWindowException",
     "evalue": "Message: no such window: target window already closed\nfrom unknown error: web view not found\n  (Session info: chrome=119.0.6045.160)\nStacktrace:\n\tGetHandleVerifier [0x00CF72A3+45731]\n\t(No symbol) [0x00C82D51]\n\t(No symbol) [0x00B7880D]\n\t(No symbol) [0x00B5F75E]\n\t(No symbol) [0x00BCC11B]\n\t(No symbol) [0x00BDB2D3]\n\t(No symbol) [0x00BC7DD6]\n\t(No symbol) [0x00BA31F6]\n\t(No symbol) [0x00BA439D]\n\tGetHandleVerifier [0x01000716+3229462]\n\tGetHandleVerifier [0x010484C8+3523784]\n\tGetHandleVerifier [0x0104214C+3498316]\n\tGetHandleVerifier [0x00D81680+611968]\n\t(No symbol) [0x00C8CCCC]\n\t(No symbol) [0x00C88DF8]\n\t(No symbol) [0x00C88F1D]\n\t(No symbol) [0x00C7B2C7]\n\tBaseThreadInitThunk [0x7757FCC9+25]\n\tRtlGetAppContainerNamedObjectPath [0x77E67C6E+286]\n\tRtlGetAppContainerNamedObjectPath [0x77E67C3E+238]\n",
     "output_type": "error",
     "traceback": [
      "\u001b[1;31m---------------------------------------------------------------------------\u001b[0m",
      "\u001b[1;31mNoSuchWindowException\u001b[0m                     Traceback (most recent call last)",
      "Cell \u001b[1;32mIn[7], line 7\u001b[0m\n\u001b[0;32m      1\u001b[0m \u001b[38;5;66;03m#search-result__title\u001b[39;00m\n\u001b[0;32m      2\u001b[0m \u001b[38;5;66;03m#inventory__price-with-shipping\u001b[39;00m\n\u001b[0;32m      3\u001b[0m \u001b[38;5;66;03m#search-result__market-price--value\u001b[39;00m\n\u001b[0;32m      6\u001b[0m \u001b[38;5;28;01mfor\u001b[39;00m i \u001b[38;5;129;01min\u001b[39;00m \u001b[38;5;28mrange\u001b[39m(\u001b[38;5;241m3\u001b[39m):\n\u001b[1;32m----> 7\u001b[0m     req \u001b[38;5;241m=\u001b[39m browser\u001b[38;5;241m.\u001b[39mhtml\n\u001b[0;32m      8\u001b[0m     soup \u001b[38;5;241m=\u001b[39m BeautifulSoup(req, \u001b[38;5;124m\"\u001b[39m\u001b[38;5;124mhtml.parser\u001b[39m\u001b[38;5;124m\"\u001b[39m)\n\u001b[0;32m     10\u001b[0m     cat_tags \u001b[38;5;241m=\u001b[39m soup\u001b[38;5;241m.\u001b[39mfind_all(\u001b[38;5;124m'\u001b[39m\u001b[38;5;124mh3\u001b[39m\u001b[38;5;124m'\u001b[39m, class_ \u001b[38;5;241m=\u001b[39m\u001b[38;5;124m\"\u001b[39m\u001b[38;5;124msearch-result__category-name\u001b[39m\u001b[38;5;124m\"\u001b[39m)\n",
      "File \u001b[1;32m~\\anaconda3\\Lib\\site-packages\\splinter\\driver\\webdriver\\__init__.py:312\u001b[0m, in \u001b[0;36mBaseWebDriver.html\u001b[1;34m(self)\u001b[0m\n\u001b[0;32m    310\u001b[0m \u001b[38;5;129m@property\u001b[39m\n\u001b[0;32m    311\u001b[0m \u001b[38;5;28;01mdef\u001b[39;00m \u001b[38;5;21mhtml\u001b[39m(\u001b[38;5;28mself\u001b[39m):\n\u001b[1;32m--> 312\u001b[0m     \u001b[38;5;28;01mreturn\u001b[39;00m \u001b[38;5;28mself\u001b[39m\u001b[38;5;241m.\u001b[39mdriver\u001b[38;5;241m.\u001b[39mpage_source\n",
      "File \u001b[1;32m~\\anaconda3\\Lib\\site-packages\\selenium\\webdriver\\remote\\webdriver.py:932\u001b[0m, in \u001b[0;36mWebDriver.page_source\u001b[1;34m(self)\u001b[0m\n\u001b[0;32m    922\u001b[0m \u001b[38;5;129m@property\u001b[39m\n\u001b[0;32m    923\u001b[0m \u001b[38;5;28;01mdef\u001b[39;00m \u001b[38;5;21mpage_source\u001b[39m(\u001b[38;5;28mself\u001b[39m) \u001b[38;5;241m-\u001b[39m\u001b[38;5;241m>\u001b[39m \u001b[38;5;28mstr\u001b[39m:\n\u001b[0;32m    924\u001b[0m \u001b[38;5;250m    \u001b[39m\u001b[38;5;124;03m\"\"\"\u001b[39;00m\n\u001b[0;32m    925\u001b[0m \u001b[38;5;124;03m    Gets the source of the current page.\u001b[39;00m\n\u001b[0;32m    926\u001b[0m \n\u001b[1;32m   (...)\u001b[0m\n\u001b[0;32m    930\u001b[0m \u001b[38;5;124;03m            driver.page_source\u001b[39;00m\n\u001b[0;32m    931\u001b[0m \u001b[38;5;124;03m    \"\"\"\u001b[39;00m\n\u001b[1;32m--> 932\u001b[0m     \u001b[38;5;28;01mreturn\u001b[39;00m \u001b[38;5;28mself\u001b[39m\u001b[38;5;241m.\u001b[39mexecute(Command\u001b[38;5;241m.\u001b[39mGET_PAGE_SOURCE)[\u001b[38;5;124m'\u001b[39m\u001b[38;5;124mvalue\u001b[39m\u001b[38;5;124m'\u001b[39m]\n",
      "File \u001b[1;32m~\\anaconda3\\Lib\\site-packages\\selenium\\webdriver\\remote\\webdriver.py:430\u001b[0m, in \u001b[0;36mWebDriver.execute\u001b[1;34m(self, driver_command, params)\u001b[0m\n\u001b[0;32m    428\u001b[0m response \u001b[38;5;241m=\u001b[39m \u001b[38;5;28mself\u001b[39m\u001b[38;5;241m.\u001b[39mcommand_executor\u001b[38;5;241m.\u001b[39mexecute(driver_command, params)\n\u001b[0;32m    429\u001b[0m \u001b[38;5;28;01mif\u001b[39;00m response:\n\u001b[1;32m--> 430\u001b[0m     \u001b[38;5;28mself\u001b[39m\u001b[38;5;241m.\u001b[39merror_handler\u001b[38;5;241m.\u001b[39mcheck_response(response)\n\u001b[0;32m    431\u001b[0m     response[\u001b[38;5;124m'\u001b[39m\u001b[38;5;124mvalue\u001b[39m\u001b[38;5;124m'\u001b[39m] \u001b[38;5;241m=\u001b[39m \u001b[38;5;28mself\u001b[39m\u001b[38;5;241m.\u001b[39m_unwrap_value(\n\u001b[0;32m    432\u001b[0m         response\u001b[38;5;241m.\u001b[39mget(\u001b[38;5;124m'\u001b[39m\u001b[38;5;124mvalue\u001b[39m\u001b[38;5;124m'\u001b[39m, \u001b[38;5;28;01mNone\u001b[39;00m))\n\u001b[0;32m    433\u001b[0m     \u001b[38;5;28;01mreturn\u001b[39;00m response\n",
      "File \u001b[1;32m~\\anaconda3\\Lib\\site-packages\\selenium\\webdriver\\remote\\errorhandler.py:247\u001b[0m, in \u001b[0;36mErrorHandler.check_response\u001b[1;34m(self, response)\u001b[0m\n\u001b[0;32m    245\u001b[0m         alert_text \u001b[38;5;241m=\u001b[39m value[\u001b[38;5;124m'\u001b[39m\u001b[38;5;124malert\u001b[39m\u001b[38;5;124m'\u001b[39m]\u001b[38;5;241m.\u001b[39mget(\u001b[38;5;124m'\u001b[39m\u001b[38;5;124mtext\u001b[39m\u001b[38;5;124m'\u001b[39m)\n\u001b[0;32m    246\u001b[0m     \u001b[38;5;28;01mraise\u001b[39;00m exception_class(message, screen, stacktrace, alert_text)  \u001b[38;5;66;03m# type: ignore[call-arg]  # mypy is not smart enough here\u001b[39;00m\n\u001b[1;32m--> 247\u001b[0m \u001b[38;5;28;01mraise\u001b[39;00m exception_class(message, screen, stacktrace)\n",
      "\u001b[1;31mNoSuchWindowException\u001b[0m: Message: no such window: target window already closed\nfrom unknown error: web view not found\n  (Session info: chrome=119.0.6045.160)\nStacktrace:\n\tGetHandleVerifier [0x00CF72A3+45731]\n\t(No symbol) [0x00C82D51]\n\t(No symbol) [0x00B7880D]\n\t(No symbol) [0x00B5F75E]\n\t(No symbol) [0x00BCC11B]\n\t(No symbol) [0x00BDB2D3]\n\t(No symbol) [0x00BC7DD6]\n\t(No symbol) [0x00BA31F6]\n\t(No symbol) [0x00BA439D]\n\tGetHandleVerifier [0x01000716+3229462]\n\tGetHandleVerifier [0x010484C8+3523784]\n\tGetHandleVerifier [0x0104214C+3498316]\n\tGetHandleVerifier [0x00D81680+611968]\n\t(No symbol) [0x00C8CCCC]\n\t(No symbol) [0x00C88DF8]\n\t(No symbol) [0x00C88F1D]\n\t(No symbol) [0x00C7B2C7]\n\tBaseThreadInitThunk [0x7757FCC9+25]\n\tRtlGetAppContainerNamedObjectPath [0x77E67C6E+286]\n\tRtlGetAppContainerNamedObjectPath [0x77E67C3E+238]\n"
     ]
    }
   ],
   "source": [
    "#search-result__title\n",
    "#inventory__price-with-shipping\n",
    "#search-result__market-price--value\n",
    "\n",
    "\n",
    "for i in range(3):\n",
    "    req = browser.html\n",
    "    soup = BeautifulSoup(req, \"html.parser\")\n",
    "\n",
    "    cat_tags = soup.find_all('h3', class_ =\"search-result__category-name\")\n",
    "    set_tags = soup.find_all('h4', class_ =\"search-result__subtitle\")\n",
    "    title_tags = soup.find_all('span', class_ = \"search-result__title\")\n",
    "    price1_tags = soup.find_all('span', class_ = \"inventory__price-with-shipping\")\n",
    "    price2_tags = soup.find_all('span', class_ = \"search-result__market-price--value\")\n",
    "\n",
    "    for  cat, sset, titles, price1, price2 in zip( cat_tags ,set_tags, title_tags, price1_tags, price2_tags):\n",
    "        row = []\n",
    "        row.append(cat.text)\n",
    "        row.append(sset.text)\n",
    "        row.append(titles.text)\n",
    "        row.append(price1.text)\n",
    "        row.append(price2.text)\n",
    "        price_list.append(row)           \n",
    "    \n",
    "    browser.find_by_xpath('/html/body/div[2]/div/div/section[2]/section/section/section/div[2]/div[1]/a[2]').click()\n",
    "    time.sleep(4)\n",
    "    \n",
    "    \n",
    "                \n",
    "               "
   ]
  },
  {
   "cell_type": "code",
   "execution_count": null,
   "id": "f44cd80c",
   "metadata": {},
   "outputs": [],
   "source": [
    "browser.quit"
   ]
  },
  {
   "cell_type": "code",
   "execution_count": null,
   "id": "49c4a4a4",
   "metadata": {},
   "outputs": [],
   "source": [
    "df = pd.DataFrame(price_list)\n",
    "df"
   ]
  },
  {
   "cell_type": "code",
   "execution_count": null,
   "id": "808b3ef8",
   "metadata": {},
   "outputs": [],
   "source": [
    "df.columns = [  \"category\", \"set\", 'Name', 'Listed Price','Market Price']\n"
   ]
  },
  {
   "cell_type": "code",
   "execution_count": null,
   "id": "78ce884f",
   "metadata": {},
   "outputs": [],
   "source": [
    "# reformat data\n",
    "\n",
    "\n",
    "df[\"Market Price\"] = df[\"Market Price\"].str.replace(\"$\", \"\")\n",
    "df[\"Listed Price\"] = df[\"Listed Price\"].str.replace(\"$\", \"\")\n",
    "df['Market Price'] = df['Market Price'].astype(float)\n",
    "df['Listed Price'] = df['Listed Price'].astype(float)\n",
    "\n"
   ]
  },
  {
   "cell_type": "code",
   "execution_count": null,
   "id": "0889e4ee",
   "metadata": {},
   "outputs": [],
   "source": [
    "df[\"over_under\"] = (df[\"Listed Price\"]) - (df['Market Price'])\n"
   ]
  },
  {
   "cell_type": "code",
   "execution_count": null,
   "id": "a39d0e14",
   "metadata": {},
   "outputs": [],
   "source": [
    "sorted_df = df.sort_values([\"over_under\"])\n",
    "sorted_df.head(5)"
   ]
  },
  {
   "cell_type": "code",
   "execution_count": null,
   "id": "b8c78cde",
   "metadata": {},
   "outputs": [],
   "source": [
    "limit_df= sorted_df.loc[sorted_df['category'] == \"Magic: The Gathering\"]\n",
    "limit_df= limit_df.iloc[:100]\n",
    "limit_df"
   ]
  },
  {
   "cell_type": "code",
   "execution_count": null,
   "id": "09cbdc5a",
   "metadata": {},
   "outputs": [],
   "source": [
    "limit_df.to_csv(f\"{seller}_report.csv\")"
   ]
  },
  {
   "cell_type": "code",
   "execution_count": null,
   "id": "96940daa",
   "metadata": {},
   "outputs": [],
   "source": []
  }
 ],
 "metadata": {
  "kernelspec": {
   "display_name": "Python 3 (ipykernel)",
   "language": "python",
   "name": "python3"
  },
  "language_info": {
   "codemirror_mode": {
    "name": "ipython",
    "version": 3
   },
   "file_extension": ".py",
   "mimetype": "text/x-python",
   "name": "python",
   "nbconvert_exporter": "python",
   "pygments_lexer": "ipython3",
   "version": "3.11.3"
  }
 },
 "nbformat": 4,
 "nbformat_minor": 5
}
