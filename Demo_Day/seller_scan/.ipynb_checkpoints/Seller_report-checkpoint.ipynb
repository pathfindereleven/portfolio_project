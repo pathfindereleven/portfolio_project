{
 "cells": [
  {
   "cell_type": "code",
   "execution_count": 1,
   "id": "91224c52",
   "metadata": {},
   "outputs": [],
   "source": [
    "import pandas as pd\n",
    "from splinter import Browser\n",
    "from bs4 import BeautifulSoup\n",
    "import time\n",
    "import requests\n",
    "import os\n",
    "import csv\n",
    "from selenium import webdriver\n",
    "from webdriver_manager.chrome import ChromeDriverManager"
   ]
  },
  {
   "cell_type": "code",
   "execution_count": 2,
   "id": "6e235419",
   "metadata": {},
   "outputs": [],
   "source": [
    "from splinter import Browser\n",
    "from selenium.webdriver.chrome.service import Service\n",
    "\n",
    "my_service = Service(executable_path=r'C:\\Users\\pc\\OneDrive\\Desktop\\TCG-scraper\\chromedriver.exe')\n",
    "browser = Browser('chrome', service=my_service)"
   ]
  },
  {
   "cell_type": "code",
   "execution_count": 3,
   "id": "b60bfa20",
   "metadata": {},
   "outputs": [],
   "source": [
    "# visiting the webpage\n",
    "\n",
    "url = 'https://shop.tcgplayer.com/sellers'\n",
    "browser.visit(url)"
   ]
  },
  {
   "cell_type": "code",
   "execution_count": 4,
   "id": "ba921c61",
   "metadata": {},
   "outputs": [],
   "source": [
    "# xpath for the next button at the end of each page\n",
    "# //*[@id=\"app\"]/div/div/section[2]/section/section/section/div[2]/div[1]/a[2]/span/span/svg\n",
    "\n",
    "# text_xpath = '//*[@id=\"SellerName\"]'\n",
    "seller = 'VenusGuild'\n",
    "seller_list = [seller, 'xyz', 'abc']\n",
    "\n",
    "\n",
    "# passing in the seller name\n",
    "\n",
    "browser.fill('SellerName', seller)"
   ]
  },
  {
   "cell_type": "code",
   "execution_count": 5,
   "id": "7e5b4121",
   "metadata": {},
   "outputs": [],
   "source": [
    "browser.find_by_xpath('//*[@id=\"maincontentinnerpadding\"]/div/div/form/div/ul/li[4]/div/input').click()\n",
    "#time.sleep(3)\n",
    "browser.find_by_xpath('//*[@id=\"maincontentinnerpadding\"]/div/div[2]/div[3]/div/div[3]/button').click()\n",
    "time.sleep(3)"
   ]
  },
  {
   "cell_type": "code",
   "execution_count": 6,
   "id": "0a589954",
   "metadata": {},
   "outputs": [],
   "source": [
    "price_list = []"
   ]
  },
  {
   "cell_type": "code",
   "execution_count": null,
   "id": "7a29f378",
   "metadata": {},
   "outputs": [],
   "source": [
    "#search-result__title\n",
    "#inventory__price-with-shipping\n",
    "#search-result__market-price--value\n",
    "\n",
    "\n",
    "for i in range(2):\n",
    "    req = browser.html\n",
    "    soup = BeautifulSoup(req, \"html.parser\")\n",
    "\n",
    "    cat_tags = soup.find_all('h3', class_ =\"search-result__category-name\")\n",
    "    set_tags = soup.find_all('h4', class_ =\"search-result__subtitle\")\n",
    "    title_tags = soup.find_all('span', class_ = \"search-result__title\")\n",
    "    price1_tags = soup.find_all('span', class_ = \"inventory__price-with-shipping\")\n",
    "    price2_tags = soup.find_all('span', class_ = \"search-result__market-price--value\")\n",
    "\n",
    "    for  cat, sset, titles, price1, price2 in zip( cat_tags ,set_tags, title_tags, price1_tags, price2_tags):\n",
    "        row = []\n",
    "        row.append(cat.text)\n",
    "        row.append(sset.text)\n",
    "        row.append(titles.text)\n",
    "        row.append(price1.text)\n",
    "        row.append(price2.text)\n",
    "        price_list.append(row)           \n",
    "    \n",
    "    browser.find_by_xpath('/html/body/div[2]/div/div/section[2]/section/section/section/div[2]/div[1]/a[2]').click()\n",
    "    time.sleep(4)\n",
    "    \n",
    "    \n",
    "                \n",
    "               "
   ]
  },
  {
   "cell_type": "code",
   "execution_count": null,
   "id": "f44cd80c",
   "metadata": {},
   "outputs": [],
   "source": [
    "browser.quit"
   ]
  },
  {
   "cell_type": "code",
   "execution_count": null,
   "id": "49c4a4a4",
   "metadata": {},
   "outputs": [],
   "source": [
    "df = pd.DataFrame(price_list)"
   ]
  },
  {
   "cell_type": "code",
   "execution_count": null,
   "id": "808b3ef8",
   "metadata": {},
   "outputs": [],
   "source": [
    "df.columns = [  \"category\", \"set\", 'Name', 'Listed Price','Market Price']\n"
   ]
  },
  {
   "cell_type": "code",
   "execution_count": null,
   "id": "78ce884f",
   "metadata": {},
   "outputs": [],
   "source": [
    "# reformat data\n",
    "\n",
    "\n",
    "df[\"Market Price\"] = df[\"Market Price\"].str.replace(\"$\", \"\")\n",
    "df[\"Listed Price\"] = df[\"Listed Price\"].str.replace(\"$\", \"\")\n",
    "df['Market Price'] = df['Market Price'].astype(float)\n",
    "df['Listed Price'] = df['Listed Price'].astype(float)\n",
    "\n"
   ]
  },
  {
   "cell_type": "code",
   "execution_count": null,
   "id": "0889e4ee",
   "metadata": {},
   "outputs": [],
   "source": [
    "df[\"over_under\"] = (df[\"Listed Price\"]) - (df['Market Price'])\n"
   ]
  },
  {
   "cell_type": "code",
   "execution_count": null,
   "id": "a39d0e14",
   "metadata": {},
   "outputs": [],
   "source": [
    "sorted_df = df.sort_values([\"over_under\"])\n",
    "so"
   ]
  },
  {
   "cell_type": "code",
   "execution_count": null,
   "id": "2ec876c9",
   "metadata": {},
   "outputs": [],
   "source": [
    "limit_df= sorted_df.iloc[:10]\n",
    "limit_df"
   ]
  },
  {
   "cell_type": "code",
   "execution_count": null,
   "id": "e15e195a",
   "metadata": {},
   "outputs": [],
   "source": [
    "cols = ['category', 'set', 'Name']\n",
    "limit_df['combined'] = limit_df[cols].apply(lambda row: '-'.join(row.values.astype(str)), axis=1)\n",
    "limit_df\n"
   ]
  },
  {
   "cell_type": "code",
   "execution_count": null,
   "id": "b8c78cde",
   "metadata": {},
   "outputs": [],
   "source": [
    "limit_df= limit_df.loc[limit_df['category'] == \"Magic: The Gathering\"]\n",
    "limit_df"
   ]
  }
 ],
 "metadata": {
  "kernelspec": {
   "display_name": "Python 3 (ipykernel)",
   "language": "python",
   "name": "python3"
  },
  "language_info": {
   "codemirror_mode": {
    "name": "ipython",
    "version": 3
   },
   "file_extension": ".py",
   "mimetype": "text/x-python",
   "name": "python",
   "nbconvert_exporter": "python",
   "pygments_lexer": "ipython3",
   "version": "3.11.3"
  }
 },
 "nbformat": 4,
 "nbformat_minor": 5
}
